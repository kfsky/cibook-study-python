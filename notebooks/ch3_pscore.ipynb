{
 "cells": [
  {
   "cell_type": "markdown",
   "source": [
    "# 傾向スコアとは\n",
    "\n",
    "傾向スコアは、観察研究において共変量を調整するための統計手法であり、因果効果を推定するために用いられる。無作為化が難しい研究において、交絡因子を制御することが可能。\n",
    "\n",
    "傾向スコアは、介入群と非介入群に分けられた状況で、介入群と非介入群の共変量の分布を調整するために使われ、共変量の分布を調整することによって、介入群と非介入群の比較をより正確に行うことができる。\n",
    "\n",
    "傾向スコアの用途と利点には以下のようなものがある。\n",
    "\n",
    "- 共変量の影響を調整し、因果関係を推定するために使われる。\n",
    "- 無作為割付が困難な場合に、介入効果の推定を行うために使われる。\n",
    "- 研究デザインを改善するための代替方法として使われる。\n",
    "- 傾向スコアを用いることで、介入群と非介入群のバランスが改善され、効果推定の信頼性が向上することが期待される。"
   ],
   "metadata": {
    "collapsed": false
   }
  },
  {
   "cell_type": "code",
   "execution_count": 1,
   "metadata": {
    "collapsed": true
   },
   "outputs": [],
   "source": [
    "import pandas as pd\n",
    "import os\n",
    "import joblib\n",
    "from sklearn.linear_model import LogisticRegression\n",
    "from sklearn.neighbors import NearestNeighbors\n",
    "from sklearn.model_selection import train_test_split\n",
    "import statsmodels.api as sm\n",
    "from tqdm import tqdm_notebook\n",
    "import random\n",
    "import numpy as np\n",
    "import warnings\n",
    "warnings.simplefilter(\"ignore\")\n",
    "\n",
    "import seaborn as sns\n",
    "sns.set()\n",
    "\n",
    "import matplotlib.pyplot as plt\n",
    "from matplotlib import rcParams\n",
    "rcParams['font.family'] = 'Noto Sans CJK JP'"
   ]
  },
  {
   "cell_type": "markdown",
   "source": [
    "# Load Data"
   ],
   "metadata": {
    "collapsed": false
   }
  },
  {
   "cell_type": "code",
   "execution_count": 2,
   "outputs": [
    {
     "data": {
      "text/plain": "   recency history_segment  history  mens  womens zip_code  newbie channel  \\\n0        8  5) $500 - $750   572.65     1       0    Urban       1     Web   \n1        5    1) $0 - $100    42.38     1       0    Urban       1   Phone   \n2        1     7) $1,000 +  3003.48     1       1    Urban       1   Phone   \n3        1  5) $500 - $750   662.10     0       1    Urban       1     Web   \n4        5    1) $0 - $100    44.37     0       1    Urban       0     Web   \n\n     segment  visit  conversion  spend  treatment  \n0  No E-Mail      0           0    0.0          0  \n1  No E-Mail      1           0    0.0          0  \n2  No E-Mail      0           0    0.0          0  \n3  No E-Mail      0           0    0.0          0  \n4  No E-Mail      0           0    0.0          0  ",
      "text/html": "<div>\n<style scoped>\n    .dataframe tbody tr th:only-of-type {\n        vertical-align: middle;\n    }\n\n    .dataframe tbody tr th {\n        vertical-align: top;\n    }\n\n    .dataframe thead th {\n        text-align: right;\n    }\n</style>\n<table border=\"1\" class=\"dataframe\">\n  <thead>\n    <tr style=\"text-align: right;\">\n      <th></th>\n      <th>recency</th>\n      <th>history_segment</th>\n      <th>history</th>\n      <th>mens</th>\n      <th>womens</th>\n      <th>zip_code</th>\n      <th>newbie</th>\n      <th>channel</th>\n      <th>segment</th>\n      <th>visit</th>\n      <th>conversion</th>\n      <th>spend</th>\n      <th>treatment</th>\n    </tr>\n  </thead>\n  <tbody>\n    <tr>\n      <th>0</th>\n      <td>8</td>\n      <td>5) $500 - $750</td>\n      <td>572.65</td>\n      <td>1</td>\n      <td>0</td>\n      <td>Urban</td>\n      <td>1</td>\n      <td>Web</td>\n      <td>No E-Mail</td>\n      <td>0</td>\n      <td>0</td>\n      <td>0.0</td>\n      <td>0</td>\n    </tr>\n    <tr>\n      <th>1</th>\n      <td>5</td>\n      <td>1) $0 - $100</td>\n      <td>42.38</td>\n      <td>1</td>\n      <td>0</td>\n      <td>Urban</td>\n      <td>1</td>\n      <td>Phone</td>\n      <td>No E-Mail</td>\n      <td>1</td>\n      <td>0</td>\n      <td>0.0</td>\n      <td>0</td>\n    </tr>\n    <tr>\n      <th>2</th>\n      <td>1</td>\n      <td>7) $1,000 +</td>\n      <td>3003.48</td>\n      <td>1</td>\n      <td>1</td>\n      <td>Urban</td>\n      <td>1</td>\n      <td>Phone</td>\n      <td>No E-Mail</td>\n      <td>0</td>\n      <td>0</td>\n      <td>0.0</td>\n      <td>0</td>\n    </tr>\n    <tr>\n      <th>3</th>\n      <td>1</td>\n      <td>5) $500 - $750</td>\n      <td>662.10</td>\n      <td>0</td>\n      <td>1</td>\n      <td>Urban</td>\n      <td>1</td>\n      <td>Web</td>\n      <td>No E-Mail</td>\n      <td>0</td>\n      <td>0</td>\n      <td>0.0</td>\n      <td>0</td>\n    </tr>\n    <tr>\n      <th>4</th>\n      <td>5</td>\n      <td>1) $0 - $100</td>\n      <td>44.37</td>\n      <td>0</td>\n      <td>1</td>\n      <td>Urban</td>\n      <td>0</td>\n      <td>Web</td>\n      <td>No E-Mail</td>\n      <td>0</td>\n      <td>0</td>\n      <td>0.0</td>\n      <td>0</td>\n    </tr>\n  </tbody>\n</table>\n</div>"
     },
     "metadata": {},
     "output_type": "display_data"
    }
   ],
   "source": [
    "dumped_male_df_path = \"../data/male_df.joblib\"\n",
    "dumped_biased_df_path = \"../data/biased_df.joblib\"\n",
    "\n",
    "if not os.path.exists(\"../data\"):\n",
    "    os.makedirs(\"../data\", exist_ok=True)\n",
    "\n",
    "if os.path.exists(dumped_male_df_path):\n",
    "    male_df = joblib.load(dumped_male_df_path)\n",
    "    biased_data = joblib.load(dumped_biased_df_path)\n",
    "\n",
    "else:\n",
    "    mail_df = pd.read_csv(\"http://www.minethatdata.com/Kevin_Hillstrom_MineThatData_E-MailAnalytics_DataMiningChallenge_2008.03.20.csv\")\n",
    "    male_df = mail_df[mail_df[\"segment\"]!=\"Womens E-Mail\"].copy()\n",
    "    male_df[\"treatment\"] = male_df[\"segment\"].apply(lambda x: 1 if x == \"Mens E-Mail\" else 0)\n",
    "\n",
    "    # create bias data\n",
    "    sample_rules = (male_df.history > 300) | (male_df.recency < 6) | (male_df.channel=='Multichannel')\n",
    "\n",
    "    biased_data = pd.concat([\n",
    "        male_df[(sample_rules) & (male_df.treatment == 0)].sample(frac=0.5, random_state=1),\n",
    "        male_df[(sample_rules) & (male_df.treatment == 1)],\n",
    "        male_df[(~sample_rules) & (male_df.treatment == 0)],\n",
    "        male_df[(~sample_rules) & (male_df.treatment == 1)].sample(frac=0.5, random_state=1)\n",
    "    ], axis=0, ignore_index=True)\n",
    "\n",
    "\n",
    "    display(biased_data.head())"
   ],
   "metadata": {
    "collapsed": false
   }
  },
  {
   "cell_type": "code",
   "execution_count": 3,
   "outputs": [
    {
     "data": {
      "text/plain": "1    17168\n0    14757\nName: treatment, dtype: int64"
     },
     "execution_count": 3,
     "metadata": {},
     "output_type": "execute_result"
    }
   ],
   "source": [
    "biased_data[\"treatment\"].value_counts()"
   ],
   "metadata": {
    "collapsed": false
   }
  },
  {
   "cell_type": "markdown",
   "source": [
    "## 3.1.2 Propensity Score Estimation\n",
    "\n",
    "https://github.com/shyaginuma/cibook-study-python/blob/master/scripts/propensity_score_matching.py\n",
    "\n",
    "https://www.slideshare.net/okumurayasuyuki/ss-43780294"
   ],
   "metadata": {
    "collapsed": false
   }
  },
  {
   "cell_type": "code",
   "execution_count": 4,
   "outputs": [
    {
     "name": "stdout",
     "output_type": "stream",
     "text": [
      "(31925, 4)\n",
      "(31925,)\n"
     ]
    },
    {
     "data": {
      "text/plain": "   recency  history  channel_Phone  channel_Web\n0        8   572.65              0            1\n1        5    42.38              1            0\n2        1  3003.48              1            0\n3        1   662.10              0            1\n4        5    44.37              0            1",
      "text/html": "<div>\n<style scoped>\n    .dataframe tbody tr th:only-of-type {\n        vertical-align: middle;\n    }\n\n    .dataframe tbody tr th {\n        vertical-align: top;\n    }\n\n    .dataframe thead th {\n        text-align: right;\n    }\n</style>\n<table border=\"1\" class=\"dataframe\">\n  <thead>\n    <tr style=\"text-align: right;\">\n      <th></th>\n      <th>recency</th>\n      <th>history</th>\n      <th>channel_Phone</th>\n      <th>channel_Web</th>\n    </tr>\n  </thead>\n  <tbody>\n    <tr>\n      <th>0</th>\n      <td>8</td>\n      <td>572.65</td>\n      <td>0</td>\n      <td>1</td>\n    </tr>\n    <tr>\n      <th>1</th>\n      <td>5</td>\n      <td>42.38</td>\n      <td>1</td>\n      <td>0</td>\n    </tr>\n    <tr>\n      <th>2</th>\n      <td>1</td>\n      <td>3003.48</td>\n      <td>1</td>\n      <td>0</td>\n    </tr>\n    <tr>\n      <th>3</th>\n      <td>1</td>\n      <td>662.10</td>\n      <td>0</td>\n      <td>1</td>\n    </tr>\n    <tr>\n      <th>4</th>\n      <td>5</td>\n      <td>44.37</td>\n      <td>0</td>\n      <td>1</td>\n    </tr>\n  </tbody>\n</table>\n</div>"
     },
     "metadata": {},
     "output_type": "display_data"
    }
   ],
   "source": [
    "y = biased_data[\"treatment\"]\n",
    "X = pd.get_dummies(biased_data[[\"recency\", \"channel\", \"history\"]], columns=[\"channel\"], drop_first=True)\n",
    "\n",
    "print(X.shape)\n",
    "print(y.shape)\n",
    "display(X.head())"
   ],
   "metadata": {
    "collapsed": false
   }
  },
  {
   "cell_type": "code",
   "execution_count": 5,
   "outputs": [],
   "source": [
    "class PropensityScoreMatching:\n",
    "    def __init__(self, bias_data, treatment, control, random_state=0):\n",
    "        self.bias_data = bias_data\n",
    "        self.treatment = treatment\n",
    "        self.control = control\n",
    "        self.random_state = random_state\n",
    "\n",
    "        self.y = None\n",
    "        self.X = None\n",
    "\n",
    "    def match(self):\n",
    "        self.y = self.bias_data[self.treatment].copy()\n",
    "        self.X = self.bias_data[self.control].copy()\n",
    "\n",
    "        object_columns = self.X.select_dtypes(include=\"object\").columns.tolist()\n",
    "        if len(object_columns)>0:\n",
    "            self.X = pd.get_dummies(self.X, columns=object_columns, drop_first=True)\n",
    "\n",
    "        ps_model = LogisticRegression(solver=\"lbfgs\", random_state=self.random_state)\n",
    "        ps_model.fit(self.X, self.y)\n",
    "        ps_score = ps_model.predict_proba(self.X)[:, 1]\n",
    "        all_df = pd.DataFrame({f\"{self.treatment}\": self.y, \"ps_score\": ps_score})\n",
    "\n",
    "        treatments = all_df[self.treatment].unique()\n",
    "\n",
    "        if len(treatments) != 2:\n",
    "            print(\"Matching can only be performed for two groups. Please represent the two groups as [0, 1].\")\n",
    "            raise ValueError\n",
    "\n",
    "        group1_df = all_df[all_df[self.treatment]==1].copy()\n",
    "        group1_indices = group1_df.index\n",
    "        group1_df = group1_df.reset_index(drop=True)\n",
    "\n",
    "        group0_df = all_df[all_df[self.treatment]==0].copy()\n",
    "        group0_indices = group0_df.index\n",
    "        group0_df = group0_df.reset_index(drop=True)\n",
    "\n",
    "        # The recommended standard deviation of the logit-transformed propensity score estimate is multiplied by 0.2.\n",
    "        threshold = all_df[\"ps_score\"].std() * 0.2\n",
    "\n",
    "        matched_group1_dfs = []\n",
    "        matched_group0_dfs = []\n",
    "        _group1_df = group1_df.copy()\n",
    "        _group0_df = group0_df.copy()\n",
    "\n",
    "        while True:\n",
    "            nearest_neighbor_model = NearestNeighbors(n_neighbors=1)\n",
    "            nearest_neighbor_model.fit(_group1_df[\"ps_score\"].values.reshape(-1, 1))\n",
    "            distances, indices = nearest_neighbor_model.kneighbors(_group0_df[\"ps_score\"].values.reshape(-1, 1))\n",
    "\n",
    "            distance_df = pd.DataFrame({\"distance\": distances.reshape(-1), \"indices\": indices.reshape(-1)})\n",
    "            distance_df.index = _group0_df.index\n",
    "            distance_df = distance_df.drop_duplicates(subset=\"indices\")\n",
    "\n",
    "            distance_df = distance_df[distance_df[\"distance\"] < threshold]\n",
    "\n",
    "            if len(distance_df) == 0:\n",
    "                break\n",
    "\n",
    "            group1_matched_indices = _group1_df.iloc[distance_df['indices']].index.tolist()\n",
    "            group0_matched_indices = distance_df.index\n",
    "            matched_group1_dfs.append(_group1_df.loc[group1_matched_indices])\n",
    "            matched_group0_dfs.append(_group0_df.loc[group0_matched_indices])\n",
    "            _group1_df = _group1_df.drop(group1_matched_indices)\n",
    "            _group0_df = _group0_df.drop(group0_matched_indices)\n",
    "\n",
    "        # マッチしたレコードを返す\n",
    "        group1_df.index = group1_indices\n",
    "        group0_df.index = group0_indices\n",
    "        matched_df = pd.concat([\n",
    "            group1_df.iloc[pd.concat(matched_group1_dfs).index],\n",
    "            group0_df.iloc[pd.concat(matched_group0_dfs).index]\n",
    "        ]).sort_index()\n",
    "        matched_indices = matched_df.index\n",
    "\n",
    "        return self.X.loc[matched_indices], self.y.loc[matched_indices]\n",
    "\n",
    "    def get_ipw(self):\n",
    "        self.y = self.bias_data[self.treatment].copy()\n",
    "        self.X = self.bias_data[self.control].copy()\n",
    "\n",
    "        object_columns = self.X.select_dtypes(include=\"object\").columns.tolist()\n",
    "        if len(object_columns)>0:\n",
    "            self.X = pd.get_dummies(self.X, columns=object_columns, drop_first=True)\n",
    "\n",
    "        ps_model = LogisticRegression(solver=\"lbfgs\", random_state=self.random_state)\n",
    "        ps_model.fit(self.X, self.y)\n",
    "        ps_score = ps_model.predict_proba(self.X)[:, 1]\n",
    "        all_df = pd.DataFrame({f\"{self.treatment}\": self.y, \"ps_score\": ps_score})\n",
    "\n",
    "        treatments = all_df[self.treatment].unique()\n",
    "\n",
    "        if len(treatments) != 2:\n",
    "            print(\"Matching can only be performed for two groups. Please represent the two groups as [0, 1].\")\n",
    "            raise ValueError\n",
    "\n",
    "        group1_df = all_df[all_df[self.treatment]==1].copy()\n",
    "        group0_df = all_df[all_df[self.treatment]==0].copy()\n",
    "\n",
    "        group1_df['weight'] = 1 / group1_df.ps_score\n",
    "        group0_df['weight'] = 1 / (1 - group0_df.ps_score)\n",
    "        weights = pd.concat([group1_df, group0_df]).sort_index()['weight'].values\n",
    "\n",
    "        return weights"
   ],
   "metadata": {
    "collapsed": false
   }
  },
  {
   "cell_type": "code",
   "execution_count": 6,
   "outputs": [],
   "source": [
    "ps_score_model = PropensityScoreMatching(biased_data, \"treatment\", [\"recency\", \"channel\", \"history\"], random_state=1)\n",
    "\n",
    "matchX, matchy = ps_score_model.match()"
   ],
   "metadata": {
    "collapsed": false
   }
  },
  {
   "cell_type": "code",
   "execution_count": 7,
   "outputs": [
    {
     "data": {
      "text/plain": "             coef  std err      t  P>|t|  [0.025  0.975]\nconst      0.6214    0.144  4.328    0.0   0.340   0.903\ntreatment  0.8088    0.203  3.983    0.0   0.411   1.207",
      "text/html": "<div>\n<style scoped>\n    .dataframe tbody tr th:only-of-type {\n        vertical-align: middle;\n    }\n\n    .dataframe tbody tr th {\n        vertical-align: top;\n    }\n\n    .dataframe thead th {\n        text-align: right;\n    }\n</style>\n<table border=\"1\" class=\"dataframe\">\n  <thead>\n    <tr style=\"text-align: right;\">\n      <th></th>\n      <th>coef</th>\n      <th>std err</th>\n      <th>t</th>\n      <th>P&gt;|t|</th>\n      <th>[0.025</th>\n      <th>0.975]</th>\n    </tr>\n  </thead>\n  <tbody>\n    <tr>\n      <th>const</th>\n      <td>0.6214</td>\n      <td>0.144</td>\n      <td>4.328</td>\n      <td>0.0</td>\n      <td>0.340</td>\n      <td>0.903</td>\n    </tr>\n    <tr>\n      <th>treatment</th>\n      <td>0.8088</td>\n      <td>0.203</td>\n      <td>3.983</td>\n      <td>0.0</td>\n      <td>0.411</td>\n      <td>1.207</td>\n    </tr>\n  </tbody>\n</table>\n</div>"
     },
     "execution_count": 7,
     "metadata": {},
     "output_type": "execute_result"
    }
   ],
   "source": [
    "y = biased_data.loc[matchX.index].spend\n",
    "X = matchy\n",
    "X = sm.add_constant(X)\n",
    "results = sm.OLS(y, X).fit()\n",
    "\n",
    "coef = results.summary().tables[1]\n",
    "coef = pd.read_html(coef.as_html(), header=0, index_col=0)[0]\n",
    "coef"
   ],
   "metadata": {
    "collapsed": false
   }
  },
  {
   "cell_type": "code",
   "execution_count": 8,
   "outputs": [
    {
     "name": "stdout",
     "output_type": "stream",
     "text": [
      "iter: 0, coef: 0.8087894645037743\n",
      "iter: 1, coef: 0.8087894645037743\n",
      "iter: 2, coef: 0.8087894645037743\n",
      "iter: 3, coef: 0.8087894645037743\n",
      "iter: 4, coef: 0.8087894645037743\n",
      "iter: 5, coef: 0.8087894645037743\n",
      "iter: 6, coef: 0.8087894645037743\n",
      "iter: 7, coef: 0.8087894645037743\n",
      "iter: 8, coef: 0.8087894645037743\n",
      "iter: 9, coef: 0.8087894645037743\n"
     ]
    }
   ],
   "source": [
    "def seed_everything(seed=71):\n",
    "    random.seed(seed)\n",
    "    os.environ[\"PYTHONHASHSEED\"] = str(seed)\n",
    "    np.random.seed(seed)\n",
    "\n",
    "coefs_list = []\n",
    "\n",
    "for i in range(10):\n",
    "    seed_everything(seed=i)\n",
    "    ps_score_model = PropensityScoreMatching(biased_data, \"treatment\", [\"recency\", \"channel\", \"history\"], random_state=i)\n",
    "\n",
    "    matchX, matchy = ps_score_model.match()\n",
    "    y = biased_data.loc[matchX.index].spend\n",
    "    X = matchy\n",
    "    X = sm.add_constant(X)\n",
    "    results = sm.OLS(y, X).fit()\n",
    "    coef = results.params.loc['treatment']\n",
    "    print(f'iter: {i}, coef: {coef}')\n",
    "    coefs_list.append(coef)"
   ],
   "metadata": {
    "collapsed": false
   }
  },
  {
   "cell_type": "markdown",
   "source": [
    "## Inverse Probability Weighting(IPW)"
   ],
   "metadata": {
    "collapsed": false
   }
  },
  {
   "cell_type": "code",
   "execution_count": 9,
   "outputs": [],
   "source": [
    "ps_score_model = PropensityScoreMatching(biased_data, \"treatment\", [\"recency\", \"channel\", \"history\"], random_state=1)\n",
    "\n",
    "weights = ps_score_model.get_ipw()"
   ],
   "metadata": {
    "collapsed": false
   }
  },
  {
   "cell_type": "code",
   "execution_count": 10,
   "outputs": [
    {
     "data": {
      "text/plain": "             coef  std err      t  P>|t|  [0.025  0.975]\nconst      0.5903     0.12  4.920    0.0   0.355   0.825\ntreatment  0.8856     0.17  5.203    0.0   0.552   1.219",
      "text/html": "<div>\n<style scoped>\n    .dataframe tbody tr th:only-of-type {\n        vertical-align: middle;\n    }\n\n    .dataframe tbody tr th {\n        vertical-align: top;\n    }\n\n    .dataframe thead th {\n        text-align: right;\n    }\n</style>\n<table border=\"1\" class=\"dataframe\">\n  <thead>\n    <tr style=\"text-align: right;\">\n      <th></th>\n      <th>coef</th>\n      <th>std err</th>\n      <th>t</th>\n      <th>P&gt;|t|</th>\n      <th>[0.025</th>\n      <th>0.975]</th>\n    </tr>\n  </thead>\n  <tbody>\n    <tr>\n      <th>const</th>\n      <td>0.5903</td>\n      <td>0.12</td>\n      <td>4.920</td>\n      <td>0.0</td>\n      <td>0.355</td>\n      <td>0.825</td>\n    </tr>\n    <tr>\n      <th>treatment</th>\n      <td>0.8856</td>\n      <td>0.17</td>\n      <td>5.203</td>\n      <td>0.0</td>\n      <td>0.552</td>\n      <td>1.219</td>\n    </tr>\n  </tbody>\n</table>\n</div>"
     },
     "execution_count": 10,
     "metadata": {},
     "output_type": "execute_result"
    }
   ],
   "source": [
    "y = biased_data.spend\n",
    "X = biased_data[\"treatment\"]\n",
    "X = sm.add_constant(X)\n",
    "results = sm.WLS(y, X, weights=weights).fit()\n",
    "\n",
    "coef = results.summary().tables[1]\n",
    "coef = pd.read_html(coef.as_html(), header=0, index_col=0)[0]\n",
    "coef"
   ],
   "metadata": {
    "collapsed": false
   }
  },
  {
   "cell_type": "markdown",
   "source": [
    "### check balance"
   ],
   "metadata": {
    "collapsed": false
   }
  },
  {
   "cell_type": "code",
   "execution_count": 11,
   "outputs": [
    {
     "data": {
      "text/plain": "                              0\nrecency                       8\nhistory_segment  5) $500 - $750\nhistory                  572.65\nmens                          1\nwomens                        0\nzip_code                  Urban\nnewbie                        1\nchannel                     Web\nsegment               No E-Mail\nvisit                         0\nconversion                    0\nspend                         0\ntreatment                     0",
      "text/html": "<div>\n<style scoped>\n    .dataframe tbody tr th:only-of-type {\n        vertical-align: middle;\n    }\n\n    .dataframe tbody tr th {\n        vertical-align: top;\n    }\n\n    .dataframe thead th {\n        text-align: right;\n    }\n</style>\n<table border=\"1\" class=\"dataframe\">\n  <thead>\n    <tr style=\"text-align: right;\">\n      <th></th>\n      <th>0</th>\n    </tr>\n  </thead>\n  <tbody>\n    <tr>\n      <th>recency</th>\n      <td>8</td>\n    </tr>\n    <tr>\n      <th>history_segment</th>\n      <td>5) $500 - $750</td>\n    </tr>\n    <tr>\n      <th>history</th>\n      <td>572.65</td>\n    </tr>\n    <tr>\n      <th>mens</th>\n      <td>1</td>\n    </tr>\n    <tr>\n      <th>womens</th>\n      <td>0</td>\n    </tr>\n    <tr>\n      <th>zip_code</th>\n      <td>Urban</td>\n    </tr>\n    <tr>\n      <th>newbie</th>\n      <td>1</td>\n    </tr>\n    <tr>\n      <th>channel</th>\n      <td>Web</td>\n    </tr>\n    <tr>\n      <th>segment</th>\n      <td>No E-Mail</td>\n    </tr>\n    <tr>\n      <th>visit</th>\n      <td>0</td>\n    </tr>\n    <tr>\n      <th>conversion</th>\n      <td>0</td>\n    </tr>\n    <tr>\n      <th>spend</th>\n      <td>0</td>\n    </tr>\n    <tr>\n      <th>treatment</th>\n      <td>0</td>\n    </tr>\n  </tbody>\n</table>\n</div>"
     },
     "execution_count": 11,
     "metadata": {},
     "output_type": "execute_result"
    }
   ],
   "source": [
    "biased_data.head(1).T"
   ],
   "metadata": {
    "collapsed": false
   }
  },
  {
   "cell_type": "code",
   "execution_count": 12,
   "outputs": [],
   "source": [
    "def calculate_absolute_mean_difference(df, target_column):\n",
    "    return ((df[df[target_column]==1].drop(target_column, axis=1).mean() - df[df[target_column]==0].drop(target_column, axis=1).mean()) / df.drop(target_column, axis=1).std()).abs()\n",
    "\n",
    "## 調整前のAbsolute Mean Difference\n",
    "unadjusted_df = pd.get_dummies(biased_data[['treatment', 'recency', 'channel', 'history']], columns=['channel'])\n",
    "unadjusted_amd = calculate_absolute_mean_difference(unadjusted_df, \"treatment\")\n",
    "\n",
    "# 傾向スコアマッチング後のAbsolute Mean Difference\n",
    "after_matching_df = pd.get_dummies(biased_data.loc[matchX.index][['treatment', 'recency', 'history', 'channel']], columns=['channel'])\n",
    "after_matching_amd = calculate_absolute_mean_difference(after_matching_df, \"treatment\")\n",
    "\n",
    "# IPWで重み付け後のAbsolute Mean Difference\n",
    "# 重みのぶんレコードを増やして計算する（もっといいやり方を知りたい）\n",
    "after_weighted_df = pd.get_dummies(biased_data[['treatment', 'recency', 'channel', 'history']], columns=['channel'])\n",
    "weights_int = (weights * 100).astype(int)\n",
    "weighted_df = []\n",
    "for i, value in enumerate(after_weighted_df.values):\n",
    "    weighted_df.append(np.tile(value, (weights_int[i], 1)))\n",
    "weighted_df = np.concatenate(weighted_df).reshape(-1, 6)\n",
    "weighted_df = pd.DataFrame(weighted_df)\n",
    "weighted_df.columns = after_weighted_df.columns\n",
    "after_weighted_amd = calculate_absolute_mean_difference(weighted_df, \"treatment\")"
   ],
   "metadata": {
    "collapsed": false
   }
  },
  {
   "cell_type": "code",
   "execution_count": 15,
   "outputs": [
    {
     "data": {
      "text/plain": "<Figure size 432x288 with 1 Axes>",
      "image/png": "[encoded data removed]"
     },
     "metadata": {},
     "output_type": "display_data"
    }
   ],
   "source": [
    "balance_df = pd.concat([\n",
    "    pd.DataFrame({'Absolute Mean Difference': unadjusted_amd, 'Sample': 'Unadjusted'}),\n",
    "    pd.DataFrame({'Absolute Mean Difference': after_matching_amd, 'Sample': 'Adjusted'})\n",
    "])\n",
    "fig = sns.scatterplot(data=balance_df, x='Absolute Mean Difference', y=balance_df.index, hue='Sample')\n",
    "fig.set_title('3.5 マッチングしたデータでの共変量のバランス')\n",
    "plt.show()"
   ],
   "metadata": {
    "collapsed": false
   }
  },
  {
   "cell_type": "code",
   "execution_count": 16,
   "outputs": [
    {
     "data": {
      "text/plain": "<Figure size 432x288 with 1 Axes>",
      "image/png": "[encoded data removed]"
     },
     "metadata": {},
     "output_type": "display_data"
    }
   ],
   "source": [
    "balance_df = pd.concat([\n",
    "    pd.DataFrame({'Absolute Mean Difference': unadjusted_amd, 'Sample': 'Unadjusted'}),\n",
    "    pd.DataFrame({'Absolute Mean Difference': after_weighted_amd, 'Sample': 'Adjusted'})\n",
    "])\n",
    "fig = sns.scatterplot(data=balance_df, x='Absolute Mean Difference', y=balance_df.index, hue='Sample')\n",
    "fig.set_title('重み付けしたデータでの共変量のバランス')\n",
    "plt.show()"
   ],
   "metadata": {
    "collapsed": false
   }
  },
  {
   "cell_type": "markdown",
   "source": [
    "## Analysis of email delivery logs using statistical models."
   ],
   "metadata": {
    "collapsed": false
   }
  },
  {
   "cell_type": "code",
   "execution_count": 40,
   "outputs": [
    {
     "data": {
      "text/plain": "             coef  std err      t  P>|t|  [0.025  0.975]\nconst      0.5585    0.149  3.752    0.0   0.267   0.850\ntreatment  0.9251    0.211  4.389    0.0   0.512   1.338",
      "text/html": "<div>\n<style scoped>\n    .dataframe tbody tr th:only-of-type {\n        vertical-align: middle;\n    }\n\n    .dataframe tbody tr th {\n        vertical-align: top;\n    }\n\n    .dataframe thead th {\n        text-align: right;\n    }\n</style>\n<table border=\"1\" class=\"dataframe\">\n  <thead>\n    <tr style=\"text-align: right;\">\n      <th></th>\n      <th>coef</th>\n      <th>std err</th>\n      <th>t</th>\n      <th>P&gt;|t|</th>\n      <th>[0.025</th>\n      <th>0.975]</th>\n    </tr>\n  </thead>\n  <tbody>\n    <tr>\n      <th>const</th>\n      <td>0.5585</td>\n      <td>0.149</td>\n      <td>3.752</td>\n      <td>0.0</td>\n      <td>0.267</td>\n      <td>0.850</td>\n    </tr>\n    <tr>\n      <th>treatment</th>\n      <td>0.9251</td>\n      <td>0.211</td>\n      <td>4.389</td>\n      <td>0.0</td>\n      <td>0.512</td>\n      <td>1.338</td>\n    </tr>\n  </tbody>\n</table>\n</div>"
     },
     "execution_count": 40,
     "metadata": {},
     "output_type": "execute_result"
    }
   ],
   "source": [
    "seed = 0\n",
    "male_df_train, male_df_test = train_test_split(male_df,  test_size=0.5, random_state=seed)\n",
    "male_df_train = male_df_train[male_df_train[\"treatment\"]==0]\n",
    "\n",
    "model = LogisticRegression(random_state=seed)\n",
    "y_train = male_df_train[\"conversion\"]\n",
    "X_train = pd.get_dummies(\n",
    "    male_df_train[['recency', 'history_segment', 'channel', 'zip_code']], columns=['history_segment', 'channel', 'zip_code'], drop_first=True\n",
    ")\n",
    "X_test = pd.get_dummies(\n",
    "    male_df_test[['recency', 'history_segment', 'channel', 'zip_code']], columns=['history_segment', 'channel', 'zip_code'], drop_first=True\n",
    ")\n",
    "\n",
    "model.fit(X_train, y_train)\n",
    "y_pred = model.predict_proba(X_test)[:, 1]\n",
    "pred_cv_rank = pd.Series(y_pred, name=\"proba\").rank(pct=True)\n",
    "\n",
    "mail_assign = pred_cv_rank.apply(lambda x: np.random.binomial(1, x))\n",
    "\n",
    "# create delivery log\n",
    "male_df_test[\"mail_assign\"] = mail_assign\n",
    "male_df_test[\"ps\"] = pred_cv_rank\n",
    "\n",
    "ml_male_df = male_df_test[\n",
    "    ((male_df_test[\"treatment\"]==1) & (male_df_test[\"mail_assign\"] == 1)) |\n",
    "    ((male_df_test[\"treatment\"]==0) & (male_df_test[\"mail_assign\"] == 0))\n",
    "].copy()\n",
    "\n",
    "y = male_df_test.spend\n",
    "X = male_df_test.treatment\n",
    "X = sm.add_constant(X)\n",
    "results = sm.OLS(y, X).fit()\n",
    "coef_base = results.summary().tables[1]\n",
    "coef_base = pd.read_html(coef_base.as_html(), header=0, index_col=0)[0]\n",
    "coef_base"
   ],
   "metadata": {
    "collapsed": false,
    "pycharm": {
     "name": "#%%ｖ\n"
    }
   }
  },
  {
   "cell_type": "code",
   "execution_count": 24,
   "outputs": [
    {
     "data": {
      "text/plain": "             coef  std err      t  P>|t|  [0.025  0.975]\nconst      0.4881    0.326  1.497  0.135  -0.151   1.127\ntreatment  0.9596    0.467  2.057  0.040   0.045   1.875",
      "text/html": "<div>\n<style scoped>\n    .dataframe tbody tr th:only-of-type {\n        vertical-align: middle;\n    }\n\n    .dataframe tbody tr th {\n        vertical-align: top;\n    }\n\n    .dataframe thead th {\n        text-align: right;\n    }\n</style>\n<table border=\"1\" class=\"dataframe\">\n  <thead>\n    <tr style=\"text-align: right;\">\n      <th></th>\n      <th>coef</th>\n      <th>std err</th>\n      <th>t</th>\n      <th>P&gt;|t|</th>\n      <th>[0.025</th>\n      <th>0.975]</th>\n    </tr>\n  </thead>\n  <tbody>\n    <tr>\n      <th>const</th>\n      <td>0.4881</td>\n      <td>0.326</td>\n      <td>1.497</td>\n      <td>0.135</td>\n      <td>-0.151</td>\n      <td>1.127</td>\n    </tr>\n    <tr>\n      <th>treatment</th>\n      <td>0.9596</td>\n      <td>0.467</td>\n      <td>2.057</td>\n      <td>0.040</td>\n      <td>0.045</td>\n      <td>1.875</td>\n    </tr>\n  </tbody>\n</table>\n</div>"
     },
     "execution_count": 24,
     "metadata": {},
     "output_type": "execute_result"
    }
   ],
   "source": [
    "# セレクションバイアスの影響を受けている平均の比較\n",
    "y = ml_male_df.spend\n",
    "X = ml_male_df.treatment\n",
    "X = sm.add_constant(X)\n",
    "results = sm.OLS(y, X).fit()\n",
    "coef = results.summary().tables[1]\n",
    "coef = pd.read_html(coef.as_html(), header=0, index_col=0)[0]\n",
    "coef"
   ],
   "metadata": {
    "collapsed": false
   }
  },
  {
   "cell_type": "markdown",
   "source": [
    "## TPS"
   ],
   "metadata": {
    "collapsed": false
   }
  },
  {
   "cell_type": "code",
   "execution_count": 45,
   "outputs": [],
   "source": [
    "class ObtainedPropensityScoreMatching(PropensityScoreMatching):\n",
    "    def __init__(self, bias_data, treatment, ps_score, random_state=1):\n",
    "        super().__init__(bias_data, treatment, random_state)\n",
    "        self.ps_score = ps_score\n",
    "\n",
    "    def match(self):\n",
    "        self.X = self.bias_data\n",
    "        self.y = self.bias_data[self.treatment]\n",
    "\n",
    "        all_data = pd.DataFrame({f\"{self.treatment}\": self.y, \"ps_score\":self.ps_score})\n",
    "        treatments = all_data[f\"{self.treatment}\"].unique()\n",
    "\n",
    "        if len(treatments) != 2:\n",
    "            raise ValueError(\"Treatment must be binary.\")\n",
    "\n",
    "        group1_df = all_data[all_data[f\"{self.treatment}\"]==1]\n",
    "        group1_indices = group1_df.index\n",
    "        group1_df = group1_df.reset_index(drop=True)\n",
    "\n",
    "        group0_df = all_data[all_data[f\"{self.treatment}\"]==0]\n",
    "        group0_indices = group0_df.index\n",
    "        group0_df = group0_df.reset_index(drop=True)\n",
    "\n",
    "        threshold = all_data[\"ps_score\"].std() * 0.2\n",
    "        matched_group1_dfs = []\n",
    "        matched_group0_dfs = []\n",
    "        _group1_df = group1_df.copy()\n",
    "        _group0_df = group0_df.copy()\n",
    "\n",
    "        while True:\n",
    "            nearest_neighbor_model = NearestNeighbors(n_neighbors=1)\n",
    "            nearest_neighbor_model.fit(_group1_df[\"ps_score\"].values.reshape(-1, 1))\n",
    "            distances, indices = nearest_neighbor_model.kneighbors(_group0_df[\"ps_score\"].values.reshape(-1, 1))\n",
    "\n",
    "            distance_df = pd.DataFrame({\"distance\": distances.reshape(-1), \"indices\": indices.reshape(-1)})\n",
    "            distance_df.index = _group0_df.index\n",
    "            distance_df = distance_df.drop_duplicates(subset=\"indices\")\n",
    "\n",
    "            distance_df = distance_df[distance_df[\"distance\"] < threshold]\n",
    "            if len(distance_df) == 0:\n",
    "                break\n",
    "\n",
    "            group1_matched_indices = _group1_df.iloc[distance_df[\"indices\"]].index.tolist()\n",
    "            group0_matched_indices = distance_df.index\n",
    "            matched_group1_dfs.append(_group1_df.loc[group1_matched_indices])\n",
    "            matched_group0_dfs.append(_group0_df.loc[group0_matched_indices])\n",
    "            _group1_df = _group1_df.drop(group1_matched_indices)\n",
    "            _group0_df = _group0_df.drop(group0_matched_indices)\n",
    "\n",
    "        group1_df.index = group1_indices\n",
    "        group0_df.index = group0_indices\n",
    "        matched_df = pd.concat([\n",
    "            group1_df.iloc[pd.concat(matched_group1_dfs).index],\n",
    "            group0_df.iloc[pd.concat(matched_group0_dfs).index]\n",
    "        ]).sort_index()\n",
    "        matched_indices = matched_df.index\n",
    "\n",
    "        return self.X.loc[matched_indices], self.y.loc[matched_indices]\n",
    "\n",
    "    def get_ipw_obtained_ps(self):\n",
    "        self.X = self.bias_data\n",
    "        self.y = self.bias_data[self.treatment]\n",
    "\n",
    "        all_data = pd.DataFrame({f\"{self.treatment}\": self.y, \"ps_score\":self.ps_score})\n",
    "        treatments = all_data[f\"{self.treatment}\"].unique()\n",
    "\n",
    "        if len(treatments) != 2:\n",
    "            raise ValueError(\"Treatment must be binary.\")\n",
    "\n",
    "        group1_df = all_data[all_data[f\"{self.treatment}\"]==1].copy()\n",
    "        group0_df = all_data[all_data[f\"{self.treatment}\"]==0].copy()\n",
    "        group1_df[\"weight\"] = 1 / group1_df[\"ps_score\"]\n",
    "        group0_df[\"weight\"] = 1 / (1 - group0_df[\"ps_score\"])\n",
    "        weights = pd.concat([group1_df, group0_df]).sort_index()[\"weight\"].values\n",
    "\n",
    "        return weights"
   ],
   "metadata": {
    "collapsed": false
   }
  },
  {
   "cell_type": "code",
   "execution_count": 37,
   "outputs": [],
   "source": [
    "obtained_ps_score_model = ObtainedPropensityScoreMatching(ml_male_df, \"treatment\",ps_score=ml_male_df.ps,  random_state=1)\n",
    "matchX, matchy = obtained_ps_score_model.match()"
   ],
   "metadata": {
    "collapsed": false
   }
  },
  {
   "cell_type": "code",
   "execution_count": 43,
   "outputs": [
    {
     "data": {
      "text/plain": "             coef  std err      t  P>|t|  [0.025  0.975]\nconst      0.5026    0.522  0.962  0.336  -0.522   1.527\ntreatment  0.9107    0.739  1.233  0.218  -0.538   2.359",
      "text/html": "<div>\n<style scoped>\n    .dataframe tbody tr th:only-of-type {\n        vertical-align: middle;\n    }\n\n    .dataframe tbody tr th {\n        vertical-align: top;\n    }\n\n    .dataframe thead th {\n        text-align: right;\n    }\n</style>\n<table border=\"1\" class=\"dataframe\">\n  <thead>\n    <tr style=\"text-align: right;\">\n      <th></th>\n      <th>coef</th>\n      <th>std err</th>\n      <th>t</th>\n      <th>P&gt;|t|</th>\n      <th>[0.025</th>\n      <th>0.975]</th>\n    </tr>\n  </thead>\n  <tbody>\n    <tr>\n      <th>const</th>\n      <td>0.5026</td>\n      <td>0.522</td>\n      <td>0.962</td>\n      <td>0.336</td>\n      <td>-0.522</td>\n      <td>1.527</td>\n    </tr>\n    <tr>\n      <th>treatment</th>\n      <td>0.9107</td>\n      <td>0.739</td>\n      <td>1.233</td>\n      <td>0.218</td>\n      <td>-0.538</td>\n      <td>2.359</td>\n    </tr>\n  </tbody>\n</table>\n</div>"
     },
     "execution_count": 43,
     "metadata": {},
     "output_type": "execute_result"
    }
   ],
   "source": [
    "# マッチング後のデータで効果の推定\n",
    "y = matchX.spend\n",
    "X = matchy\n",
    "X = sm.add_constant(X)\n",
    "results = sm.OLS(y, X).fit()\n",
    "coef_obtained = results.summary().tables[1]\n",
    "coef_obtained = pd.read_html(coef_obtained.as_html(), header=0, index_col=0)[0]\n",
    "coef_obtained"
   ],
   "metadata": {
    "collapsed": false
   }
  },
  {
   "cell_type": "code",
   "execution_count": 44,
   "outputs": [
    {
     "data": {
      "text/plain": "0.01440000000000008"
     },
     "execution_count": 44,
     "metadata": {},
     "output_type": "execute_result"
    }
   ],
   "source": [
    "coef_base[\"coef\"][1] - coef_obtained[\"coef\"][1]"
   ],
   "metadata": {
    "collapsed": false
   }
  },
  {
   "cell_type": "code",
   "execution_count": 46,
   "outputs": [
    {
     "data": {
      "text/plain": "             coef  std err      t  P>|t|  [0.025  0.975]\nconst      0.6154    0.303  2.032  0.042   0.022   1.209\ntreatment  0.3192    0.438  0.729  0.466  -0.539   1.177",
      "text/html": "<div>\n<style scoped>\n    .dataframe tbody tr th:only-of-type {\n        vertical-align: middle;\n    }\n\n    .dataframe tbody tr th {\n        vertical-align: top;\n    }\n\n    .dataframe thead th {\n        text-align: right;\n    }\n</style>\n<table border=\"1\" class=\"dataframe\">\n  <thead>\n    <tr style=\"text-align: right;\">\n      <th></th>\n      <th>coef</th>\n      <th>std err</th>\n      <th>t</th>\n      <th>P&gt;|t|</th>\n      <th>[0.025</th>\n      <th>0.975]</th>\n    </tr>\n  </thead>\n  <tbody>\n    <tr>\n      <th>const</th>\n      <td>0.6154</td>\n      <td>0.303</td>\n      <td>2.032</td>\n      <td>0.042</td>\n      <td>0.022</td>\n      <td>1.209</td>\n    </tr>\n    <tr>\n      <th>treatment</th>\n      <td>0.3192</td>\n      <td>0.438</td>\n      <td>0.729</td>\n      <td>0.466</td>\n      <td>-0.539</td>\n      <td>1.177</td>\n    </tr>\n  </tbody>\n</table>\n</div>"
     },
     "execution_count": 46,
     "metadata": {},
     "output_type": "execute_result"
    }
   ],
   "source": [
    "obtained_ps_score_model = ObtainedPropensityScoreMatching(ml_male_df, \"treatment\",ps_score=ml_male_df.ps,  random_state=1)\n",
    "weights = obtained_ps_score_model.get_ipw_obtained_ps()\n",
    "\n",
    "# 重み付きデータでの効果の推定\n",
    "y = ml_male_df.spend\n",
    "X = ml_male_df.treatment\n",
    "X = sm.add_constant(X)\n",
    "results = sm.WLS(y, X, weights=weights).fit()\n",
    "coef_weight = results.summary().tables[1]\n",
    "coef_weight = pd.read_html(coef_weight.as_html(), header=0, index_col=0)[0]\n",
    "coef_weight"
   ],
   "metadata": {
    "collapsed": false
   }
  },
  {
   "cell_type": "code",
   "execution_count": 47,
   "outputs": [
    {
     "data": {
      "text/plain": "0.6059000000000001"
     },
     "execution_count": 47,
     "metadata": {},
     "output_type": "execute_result"
    }
   ],
   "source": [
    "coef_base[\"coef\"][1] - coef_weight[\"coef\"][1]"
   ],
   "metadata": {
    "collapsed": false
   }
  },
  {
   "cell_type": "code",
   "execution_count": 48,
   "outputs": [],
   "source": [
    "## 調整前のAbsolute Mean Difference\n",
    "unadjusted_df = pd.get_dummies(\n",
    "    ml_male_df[['treatment', 'recency', 'history_segment', 'channel', 'zip_code']], columns=['history_segment', 'channel', 'zip_code']\n",
    ")\n",
    "unadjusted_amd = calculate_absolute_mean_difference(unadjusted_df, \"treatment\")\n",
    "\n",
    "# IPWで重み付け後のAbsolute Mean Difference\n",
    "# 重みのぶんレコードを増やして計算する（もっといいやり方を知りたい）\n",
    "after_weighted_df = pd.get_dummies(\n",
    "    ml_male_df[['treatment', 'recency', 'history_segment', 'channel', 'zip_code']], columns=['history_segment', 'channel', 'zip_code']\n",
    ")\n",
    "weights_int = (weights * 100).astype(int)\n",
    "weighted_df = []\n",
    "for i, value in enumerate(after_weighted_df.values):\n",
    "    weighted_df.append(np.tile(value, (weights_int[i], 1)))\n",
    "weighted_df = np.concatenate(weighted_df).reshape(-1, 15)\n",
    "weighted_df = pd.DataFrame(weighted_df)\n",
    "weighted_df.columns = after_weighted_df.columns\n",
    "after_weighted_amd = calculate_absolute_mean_difference(weighted_df, \"treatment\")"
   ],
   "metadata": {
    "collapsed": false
   }
  },
  {
   "cell_type": "code",
   "execution_count": 49,
   "outputs": [
    {
     "data": {
      "text/plain": "<Figure size 432x288 with 1 Axes>",
      "image/png": "[encoded data removed]"
     },
     "metadata": {},
     "output_type": "display_data"
    }
   ],
   "source": [
    "balance_df = pd.concat([\n",
    "    pd.DataFrame({'Absolute Mean Difference': unadjusted_amd, 'Sample': 'Unadjusted'}),\n",
    "    pd.DataFrame({'Absolute Mean Difference': after_weighted_amd, 'Sample': 'Adjusted'})\n",
    "])\n",
    "fig = sns.scatterplot(data=balance_df, x='Absolute Mean Difference', y=balance_df.index, hue='Sample')\n",
    "fig.set_title('重み付けしたデータでの共変量のバランス')\n",
    "plt.show()"
   ],
   "metadata": {
    "collapsed": false
   }
  },
  {
   "cell_type": "code",
   "execution_count": null,
   "outputs": [],
   "source": [],
   "metadata": {
    "collapsed": false
   }
  }
 ],
 "metadata": {
  "kernelspec": {
   "display_name": "Python 3",
   "language": "python",
   "name": "python3"
  },
  "language_info": {
   "codemirror_mode": {
    "name": "ipython",
    "version": 2
   },
   "file_extension": ".py",
   "mimetype": "text/x-python",
   "name": "python",
   "nbconvert_exporter": "python",
   "pygments_lexer": "ipython2",
   "version": "2.7.6"
  }
 },
 "nbformat": 4,
 "nbformat_minor": 0
}
