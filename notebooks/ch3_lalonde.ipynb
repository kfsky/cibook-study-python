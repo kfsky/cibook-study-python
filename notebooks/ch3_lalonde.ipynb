{
 "cells": [
  {
   "cell_type": "markdown",
   "source": [
    "# LaLondeデータセットの分析\n",
    "\n",
    "LaLondeデータセットは、1970年代の労働市場トレーニングプログラム（JTPA）の効果について研究するために収集されたデータセットである。\n",
    "この研究は、ニュージャージー州の労働市場トレーニングプログラムに参加した人々と非参加者の労働市場成果を比較し、\n",
    "トレーニングプログラムの効果を評価することを目的としている。\n",
    "\n",
    "データセットには、以下の情報が含まれている。\n",
    "\n",
    "- Treat: トレーニングプログラムに参加したかどうか（1 = 参加、0 = 非参加）\n",
    "- Age: 参加者の年齢\n",
    "- Education: 参加者の教育水準\n",
    "- Black: 黒人かどうか（1 = 黒人、0 = その他の人種）\n",
    "- Hispanic: ヒスパニックかどうか（1 = ヒスパニック、0 = その他の人種）\n",
    "- Married: 結婚しているかどうか（1 = 結婚している、0 = 未婚）\n",
    "- Nodegree: 高校卒業証書を持っているかどうか（1 = 高校卒業証書がない、0 = 高校卒業証書がある）\n",
    "- RE74: 1974年の実際の収入\n",
    "- RE75: 1975年の実際の収入\n",
    "- RE78: 1978年の実際の収入\n",
    "\n",
    "NSW（National Supported Work）は、LaLondeデータセットに対して一般的に使用されるプロトコルの1つであり、\n",
    "非ランダム化試験の効果を評価するために使用される。NSWは、労働市場トレーニングプログラムに参加しなかった人々の代替処置群と、\n",
    "労働市場トレーニングプログラムに参加した人々の処置群とを比較することで、労働市場トレーニングプログラムの効果をより正確に測定することができる。"
   ],
   "metadata": {
    "collapsed": false
   }
  },
  {
   "cell_type": "markdown",
   "source": [
    "<img src=\"../image/image3_7.jpg\" alt=\"図3.7\">"
   ],
   "metadata": {
    "collapsed": false
   }
  },
  {
   "cell_type": "code",
   "execution_count": 2,
   "metadata": {
    "collapsed": true
   },
   "outputs": [],
   "source": [
    "import numpy as np\n",
    "import pandas as pd\n",
    "import statsmodels.api as sm\n",
    "\n",
    "import seaborn as sns\n",
    "sns.set()\n",
    "\n",
    "import matplotlib.pyplot as plt\n",
    "from matplotlib import rcParams\n",
    "rcParams['font.family'] = 'Noto Sans CJK JP'\n",
    "\n",
    "from sklearn.linear_model import LogisticRegression\n",
    "from sklearn.neighbors import NearestNeighbors\n",
    "\n",
    "import warnings\n",
    "warnings.simplefilter(\"ignore\")"
   ]
  },
  {
   "cell_type": "markdown",
   "source": [
    "# Load Data"
   ],
   "metadata": {
    "collapsed": false
   }
  },
  {
   "cell_type": "markdown",
   "source": [
    "NSW、CPS1、CPS3という３つのデータがある。\n",
    "- NSWは、労働市場トレーニングプログラムのデータ。　　\n",
    "- CPS1は、NSWの介入が行われたデータと別の調査データを非介入として組み合わせたもの。　　\n",
    "- CPS3は、CPS1のデータの非介入のデータの中から特定の条件を満たさないサンプルを除外したものになっている。"
   ],
   "metadata": {
    "collapsed": false
   }
  },
  {
   "cell_type": "code",
   "execution_count": 3,
   "outputs": [],
   "source": [
    "cps1_data = pd.read_stata('https://users.nber.org/~rdehejia/data/cps_controls.dta')\n",
    "cps3_data = pd.read_stata('https://users.nber.org/~rdehejia/data/cps_controls3.dta')\n",
    "nswdw_data = pd.read_stata('https://users.nber.org/~rdehejia/data/nsw_dw.dta')"
   ],
   "metadata": {
    "collapsed": false
   }
  },
  {
   "cell_type": "code",
   "execution_count": 4,
   "outputs": [],
   "source": [
    "cps1_nsw_data = pd.concat([nswdw_data[nswdw_data.treat == 1], cps1_data], ignore_index=True)\n",
    "cps3_nsw_data = pd.concat([nswdw_data[nswdw_data.treat == 1], cps3_data], ignore_index=True)"
   ],
   "metadata": {
    "collapsed": false
   }
  },
  {
   "cell_type": "code",
   "execution_count": 5,
   "outputs": [
    {
     "data": {
      "text/plain": "                data_id  treat   age  education  black  hispanic  married  \\\n0  Dehejia-Wahba Sample    1.0  37.0       11.0    1.0       0.0      1.0   \n1  Dehejia-Wahba Sample    1.0  22.0        9.0    0.0       1.0      0.0   \n2  Dehejia-Wahba Sample    1.0  30.0       12.0    1.0       0.0      0.0   \n3  Dehejia-Wahba Sample    1.0  27.0       11.0    1.0       0.0      0.0   \n4  Dehejia-Wahba Sample    1.0  33.0        8.0    1.0       0.0      0.0   \n\n   nodegree  re74  re75          re78  \n0       1.0   0.0   0.0   9930.045898  \n1       1.0   0.0   0.0   3595.894043  \n2       0.0   0.0   0.0  24909.449219  \n3       1.0   0.0   0.0   7506.145996  \n4       1.0   0.0   0.0    289.789886  ",
      "text/html": "<div>\n<style scoped>\n    .dataframe tbody tr th:only-of-type {\n        vertical-align: middle;\n    }\n\n    .dataframe tbody tr th {\n        vertical-align: top;\n    }\n\n    .dataframe thead th {\n        text-align: right;\n    }\n</style>\n<table border=\"1\" class=\"dataframe\">\n  <thead>\n    <tr style=\"text-align: right;\">\n      <th></th>\n      <th>data_id</th>\n      <th>treat</th>\n      <th>age</th>\n      <th>education</th>\n      <th>black</th>\n      <th>hispanic</th>\n      <th>married</th>\n      <th>nodegree</th>\n      <th>re74</th>\n      <th>re75</th>\n      <th>re78</th>\n    </tr>\n  </thead>\n  <tbody>\n    <tr>\n      <th>0</th>\n      <td>Dehejia-Wahba Sample</td>\n      <td>1.0</td>\n      <td>37.0</td>\n      <td>11.0</td>\n      <td>1.0</td>\n      <td>0.0</td>\n      <td>1.0</td>\n      <td>1.0</td>\n      <td>0.0</td>\n      <td>0.0</td>\n      <td>9930.045898</td>\n    </tr>\n    <tr>\n      <th>1</th>\n      <td>Dehejia-Wahba Sample</td>\n      <td>1.0</td>\n      <td>22.0</td>\n      <td>9.0</td>\n      <td>0.0</td>\n      <td>1.0</td>\n      <td>0.0</td>\n      <td>1.0</td>\n      <td>0.0</td>\n      <td>0.0</td>\n      <td>3595.894043</td>\n    </tr>\n    <tr>\n      <th>2</th>\n      <td>Dehejia-Wahba Sample</td>\n      <td>1.0</td>\n      <td>30.0</td>\n      <td>12.0</td>\n      <td>1.0</td>\n      <td>0.0</td>\n      <td>0.0</td>\n      <td>0.0</td>\n      <td>0.0</td>\n      <td>0.0</td>\n      <td>24909.449219</td>\n    </tr>\n    <tr>\n      <th>3</th>\n      <td>Dehejia-Wahba Sample</td>\n      <td>1.0</td>\n      <td>27.0</td>\n      <td>11.0</td>\n      <td>1.0</td>\n      <td>0.0</td>\n      <td>0.0</td>\n      <td>1.0</td>\n      <td>0.0</td>\n      <td>0.0</td>\n      <td>7506.145996</td>\n    </tr>\n    <tr>\n      <th>4</th>\n      <td>Dehejia-Wahba Sample</td>\n      <td>1.0</td>\n      <td>33.0</td>\n      <td>8.0</td>\n      <td>1.0</td>\n      <td>0.0</td>\n      <td>0.0</td>\n      <td>1.0</td>\n      <td>0.0</td>\n      <td>0.0</td>\n      <td>289.789886</td>\n    </tr>\n  </tbody>\n</table>\n</div>"
     },
     "execution_count": 5,
     "metadata": {},
     "output_type": "execute_result"
    }
   ],
   "source": [
    "cps1_nsw_data.head()"
   ],
   "metadata": {
    "collapsed": false
   }
  },
  {
   "cell_type": "code",
   "execution_count": 6,
   "outputs": [
    {
     "data": {
      "text/plain": "                data_id  treat   age  education  black  hispanic  married  \\\n0  Dehejia-Wahba Sample    1.0  37.0       11.0    1.0       0.0      1.0   \n1  Dehejia-Wahba Sample    1.0  22.0        9.0    0.0       1.0      0.0   \n2  Dehejia-Wahba Sample    1.0  30.0       12.0    1.0       0.0      0.0   \n3  Dehejia-Wahba Sample    1.0  27.0       11.0    1.0       0.0      0.0   \n4  Dehejia-Wahba Sample    1.0  33.0        8.0    1.0       0.0      0.0   \n\n   nodegree  re74  re75          re78  \n0       1.0   0.0   0.0   9930.045898  \n1       1.0   0.0   0.0   3595.894043  \n2       0.0   0.0   0.0  24909.449219  \n3       1.0   0.0   0.0   7506.145996  \n4       1.0   0.0   0.0    289.789886  ",
      "text/html": "<div>\n<style scoped>\n    .dataframe tbody tr th:only-of-type {\n        vertical-align: middle;\n    }\n\n    .dataframe tbody tr th {\n        vertical-align: top;\n    }\n\n    .dataframe thead th {\n        text-align: right;\n    }\n</style>\n<table border=\"1\" class=\"dataframe\">\n  <thead>\n    <tr style=\"text-align: right;\">\n      <th></th>\n      <th>data_id</th>\n      <th>treat</th>\n      <th>age</th>\n      <th>education</th>\n      <th>black</th>\n      <th>hispanic</th>\n      <th>married</th>\n      <th>nodegree</th>\n      <th>re74</th>\n      <th>re75</th>\n      <th>re78</th>\n    </tr>\n  </thead>\n  <tbody>\n    <tr>\n      <th>0</th>\n      <td>Dehejia-Wahba Sample</td>\n      <td>1.0</td>\n      <td>37.0</td>\n      <td>11.0</td>\n      <td>1.0</td>\n      <td>0.0</td>\n      <td>1.0</td>\n      <td>1.0</td>\n      <td>0.0</td>\n      <td>0.0</td>\n      <td>9930.045898</td>\n    </tr>\n    <tr>\n      <th>1</th>\n      <td>Dehejia-Wahba Sample</td>\n      <td>1.0</td>\n      <td>22.0</td>\n      <td>9.0</td>\n      <td>0.0</td>\n      <td>1.0</td>\n      <td>0.0</td>\n      <td>1.0</td>\n      <td>0.0</td>\n      <td>0.0</td>\n      <td>3595.894043</td>\n    </tr>\n    <tr>\n      <th>2</th>\n      <td>Dehejia-Wahba Sample</td>\n      <td>1.0</td>\n      <td>30.0</td>\n      <td>12.0</td>\n      <td>1.0</td>\n      <td>0.0</td>\n      <td>0.0</td>\n      <td>0.0</td>\n      <td>0.0</td>\n      <td>0.0</td>\n      <td>24909.449219</td>\n    </tr>\n    <tr>\n      <th>3</th>\n      <td>Dehejia-Wahba Sample</td>\n      <td>1.0</td>\n      <td>27.0</td>\n      <td>11.0</td>\n      <td>1.0</td>\n      <td>0.0</td>\n      <td>0.0</td>\n      <td>1.0</td>\n      <td>0.0</td>\n      <td>0.0</td>\n      <td>7506.145996</td>\n    </tr>\n    <tr>\n      <th>4</th>\n      <td>Dehejia-Wahba Sample</td>\n      <td>1.0</td>\n      <td>33.0</td>\n      <td>8.0</td>\n      <td>1.0</td>\n      <td>0.0</td>\n      <td>0.0</td>\n      <td>1.0</td>\n      <td>0.0</td>\n      <td>0.0</td>\n      <td>289.789886</td>\n    </tr>\n  </tbody>\n</table>\n</div>"
     },
     "execution_count": 6,
     "metadata": {},
     "output_type": "execute_result"
    }
   ],
   "source": [
    "cps3_nsw_data.head()"
   ],
   "metadata": {
    "collapsed": false
   }
  },
  {
   "cell_type": "markdown",
   "source": [
    "# Confirmation of Results through Randomized Controlled Trials (RCT)\n",
    "NSWにおけるRCTの結果を確認する。NSWの実験データで職業訓練の収入に対する効果を推定する。\n",
    "NSWの実験データで職業訓練の収入に対する効果を推定する。以下のようなモデルを仮定して回帰分析を行って、効果推定を行う\n",
    "\n",
    "\n",
    "$$\n",
    "earn_{78, i} = β_0 + β_1treat_i + β_2re74_i + β_3re75_i + β_4age_i + β_5educ_i + β_6black_i + β_7hispan_i + β_8nodegr_i + β_9married_i + u_i\n",
    "$$"
   ],
   "metadata": {
    "collapsed": false
   }
  },
  {
   "cell_type": "code",
   "execution_count": 8,
   "outputs": [
    {
     "data": {
      "text/plain": "            coef  std err       t  P>|t|    [0.025    0.975]\nconst  4554.8011  408.046  11.162  0.000  3752.855  5356.747\ntreat  1794.3424  632.853   2.835  0.005   550.574  3038.110",
      "text/html": "<div>\n<style scoped>\n    .dataframe tbody tr th:only-of-type {\n        vertical-align: middle;\n    }\n\n    .dataframe tbody tr th {\n        vertical-align: top;\n    }\n\n    .dataframe thead th {\n        text-align: right;\n    }\n</style>\n<table border=\"1\" class=\"dataframe\">\n  <thead>\n    <tr style=\"text-align: right;\">\n      <th></th>\n      <th>coef</th>\n      <th>std err</th>\n      <th>t</th>\n      <th>P&gt;|t|</th>\n      <th>[0.025</th>\n      <th>0.975]</th>\n    </tr>\n  </thead>\n  <tbody>\n    <tr>\n      <th>const</th>\n      <td>4554.8011</td>\n      <td>408.046</td>\n      <td>11.162</td>\n      <td>0.000</td>\n      <td>3752.855</td>\n      <td>5356.747</td>\n    </tr>\n    <tr>\n      <th>treat</th>\n      <td>1794.3424</td>\n      <td>632.853</td>\n      <td>2.835</td>\n      <td>0.005</td>\n      <td>550.574</td>\n      <td>3038.110</td>\n    </tr>\n  </tbody>\n</table>\n</div>"
     },
     "execution_count": 8,
     "metadata": {},
     "output_type": "execute_result"
    }
   ],
   "source": [
    "# 共変量なしの回帰分析\n",
    "y = nswdw_data.re78\n",
    "X = nswdw_data.treat\n",
    "X = sm.add_constant(X)\n",
    "\n",
    "results = sm.OLS(y, X).fit()\n",
    "coef_no_control = results.summary().tables[1]\n",
    "coef_no_control = pd.read_html(coef_no_control.as_html(), header=0, index_col=0)[0]\n",
    "coef_no_control"
   ],
   "metadata": {
    "collapsed": false
   }
  },
  {
   "cell_type": "code",
   "execution_count": 14,
   "outputs": [
    {
     "data": {
      "text/plain": "            coef  std err      t  P>|t|   [0.025    0.975]\ntreat  1676.3426  638.682  2.625  0.009  421.056  2931.629",
      "text/html": "<div>\n<style scoped>\n    .dataframe tbody tr th:only-of-type {\n        vertical-align: middle;\n    }\n\n    .dataframe tbody tr th {\n        vertical-align: top;\n    }\n\n    .dataframe thead th {\n        text-align: right;\n    }\n</style>\n<table border=\"1\" class=\"dataframe\">\n  <thead>\n    <tr style=\"text-align: right;\">\n      <th></th>\n      <th>coef</th>\n      <th>std err</th>\n      <th>t</th>\n      <th>P&gt;|t|</th>\n      <th>[0.025</th>\n      <th>0.975]</th>\n    </tr>\n  </thead>\n  <tbody>\n    <tr>\n      <th>treat</th>\n      <td>1676.3426</td>\n      <td>638.682</td>\n      <td>2.625</td>\n      <td>0.009</td>\n      <td>421.056</td>\n      <td>2931.629</td>\n    </tr>\n  </tbody>\n</table>\n</div>"
     },
     "execution_count": 14,
     "metadata": {},
     "output_type": "execute_result"
    }
   ],
   "source": [
    "# 共変量付きの回帰分析\n",
    "y = nswdw_data.re78\n",
    "X = nswdw_data[[\"treat\", \"re74\", \"re75\", \"age\", \"education\", \"black\", \"hispanic\", \"nodegree\", \"married\"]]\n",
    "\n",
    "X = sm.add_constant(X)\n",
    "results = sm.OLS(y, X).fit()\n",
    "coef = results.summary().tables[1]\n",
    "coef = pd.read_html(coef.as_html(), header=0, index_col=0)[0]\n",
    "pd.DataFrame(coef.loc['treat']).T"
   ],
   "metadata": {
    "collapsed": false
   }
  },
  {
   "cell_type": "markdown",
   "source": [
    "推定された効果量は、1676となり、統計的にも有意な結果になっている。NSWの介入が行われた対象は約1600収入が上昇しているという結果を表し、職業訓練としてある程度の効果があることが確認できる。\n",
    "\n",
    "問題は、LaLondeと同様のデータ加工を行った際に、このような結果を得られるかにある。\n",
    "\n",
    "\n",
    "CPS1のデータセットは、NSWで介入が行われなかったデータの部分を、別の調査データであるCPSから介入の前々年にあたる1974年の収入が観測されている対象のデータに差し替えたもの。この調査データは特に、\"失業者\"のデータに限定されているわけではないので、失業者への実験データであるNSWとは含まれている人の傾向が大きく異なっている。CSPのデータを非介入グループとして組み合わせると、介入グループと非介入グループの平均的な傾向が異なっていることになる。\n",
    "\n",
    "\n",
    "このまま、介入グループと非介入グループの平均を比較した場合、基本的に失業者のデータである介入グループの所得は低く、失業者以外の人からもデータを得ている非介入グループの所得は高くなる。よって、単純に平均を比較すると、セレクションバイアスの問題が入り込む。\n",
    "しかし、非介入グループのデータの中には失業している人も含まれているため、介入グループと異傾向が同一であるようなサンプルも含まれる。\n",
    "\n",
    "\n",
    "つまり、この部分から効果を上手く推定できれば、NSWにおける実験の結果に近い結果が得られると考えられる。"
   ],
   "metadata": {
    "collapsed": false
   }
  },
  {
   "cell_type": "code",
   "execution_count": 21,
   "outputs": [
    {
     "data": {
      "text/plain": "           coef  std err      t  P>|t|   [0.025    0.975]\ntreat  699.1317  547.636  1.277  0.202 -374.296  1772.559",
      "text/html": "<div>\n<style scoped>\n    .dataframe tbody tr th:only-of-type {\n        vertical-align: middle;\n    }\n\n    .dataframe tbody tr th {\n        vertical-align: top;\n    }\n\n    .dataframe thead th {\n        text-align: right;\n    }\n</style>\n<table border=\"1\" class=\"dataframe\">\n  <thead>\n    <tr style=\"text-align: right;\">\n      <th></th>\n      <th>coef</th>\n      <th>std err</th>\n      <th>t</th>\n      <th>P&gt;|t|</th>\n      <th>[0.025</th>\n      <th>0.975]</th>\n    </tr>\n  </thead>\n  <tbody>\n    <tr>\n      <th>treat</th>\n      <td>699.1317</td>\n      <td>547.636</td>\n      <td>1.277</td>\n      <td>0.202</td>\n      <td>-374.296</td>\n      <td>1772.559</td>\n    </tr>\n  </tbody>\n</table>\n</div>"
     },
     "execution_count": 21,
     "metadata": {},
     "output_type": "execute_result"
    }
   ],
   "source": [
    "## CPS1の分析結果\n",
    "y = cps1_nsw_data.re78\n",
    "X = cps1_nsw_data[['treat', 're74', 're75', 'age', 'education', 'black', 'hispanic', 'nodegree', 'married']]\n",
    "X = sm.add_constant(X)\n",
    "results = sm.OLS(y, X).fit()\n",
    "coef = results.summary().tables[1]\n",
    "coef = pd.read_html(coef.as_html(), header=0, index_col=0)[0]\n",
    "pd.DataFrame(coef.loc['treat']).T"
   ],
   "metadata": {
    "collapsed": false
   }
  },
  {
   "cell_type": "code",
   "execution_count": 22,
   "outputs": [
    {
     "data": {
      "text/plain": "            coef  std err      t  P>|t|  [0.025    0.975]\ntreat  1548.2438  781.279  1.982  0.048   13.89  3082.598",
      "text/html": "<div>\n<style scoped>\n    .dataframe tbody tr th:only-of-type {\n        vertical-align: middle;\n    }\n\n    .dataframe tbody tr th {\n        vertical-align: top;\n    }\n\n    .dataframe thead th {\n        text-align: right;\n    }\n</style>\n<table border=\"1\" class=\"dataframe\">\n  <thead>\n    <tr style=\"text-align: right;\">\n      <th></th>\n      <th>coef</th>\n      <th>std err</th>\n      <th>t</th>\n      <th>P&gt;|t|</th>\n      <th>[0.025</th>\n      <th>0.975]</th>\n    </tr>\n  </thead>\n  <tbody>\n    <tr>\n      <th>treat</th>\n      <td>1548.2438</td>\n      <td>781.279</td>\n      <td>1.982</td>\n      <td>0.048</td>\n      <td>13.89</td>\n      <td>3082.598</td>\n    </tr>\n  </tbody>\n</table>\n</div>"
     },
     "execution_count": 22,
     "metadata": {},
     "output_type": "execute_result"
    }
   ],
   "source": [
    "## CPS3の分析結果\n",
    "y = cps3_nsw_data.re78\n",
    "X = cps3_nsw_data[['treat', 're74', 're75', 'age', 'education', 'black', 'hispanic', 'nodegree', 'married']]\n",
    "X = sm.add_constant(X)\n",
    "results = sm.OLS(y, X).fit()\n",
    "coef = results.summary().tables[1]\n",
    "coef = pd.read_html(coef.as_html(), header=0, index_col=0)[0]\n",
    "pd.DataFrame(coef.loc['treat']).T"
   ],
   "metadata": {
    "collapsed": false
   }
  },
  {
   "cell_type": "markdown",
   "source": [
    "# Propensity Score Estimation"
   ],
   "metadata": {
    "collapsed": false
   }
  },
  {
   "cell_type": "code",
   "execution_count": 17,
   "outputs": [],
   "source": [
    "class PropensityScoreMatching:\n",
    "    \"\"\"\n",
    "    ロジスティック回帰を使用して傾向スコアを推定し、最近傍法による傾向スコアマッチングを行うクラス。\n",
    "\n",
    "    Parameters\n",
    "    ----------\n",
    "    bias_data : pd.DataFrame\n",
    "        バイアスのあるデータ\n",
    "    treatment : str\n",
    "        介入変数のカラム名\n",
    "    control : list\n",
    "        介入変数以外の説明変数のカラム名\n",
    "    random_state : int\n",
    "        乱数のシード値\n",
    "\n",
    "    Attributes\n",
    "    ----------\n",
    "    y : pandas.Series\n",
    "        介入変数\n",
    "    X : pandas.DataFrame\n",
    "        介入変数以外の説明変数\n",
    "\n",
    "    Methods\n",
    "    -------\n",
    "    match()\n",
    "        マッチングを行う\n",
    "    get_ipw()\n",
    "        IPWを計算する\n",
    "\n",
    "    Raises\n",
    "    ------\n",
    "    ValueError\n",
    "        介入変数が0,1以外の値をとる場合\n",
    "    \"\"\"\n",
    "    def __init__(self, bias_data, treatment, control, random_state=0):\n",
    "        \"\"\"\n",
    "        Parameters\n",
    "        ----------\n",
    "        bias_data: pandas.DataFrame()\n",
    "            分析に使用するデータ\n",
    "        treatment: str\n",
    "            介入変数のカラム名\n",
    "        control: list\n",
    "            介入変数以外の説明変数のカラム名\n",
    "        random_state: int\n",
    "            乱数のシード値\n",
    "        \"\"\"\n",
    "        self.bias_data = bias_data\n",
    "        self.treatment = treatment\n",
    "        self.control = control\n",
    "        self.random_state = random_state\n",
    "\n",
    "        self.y = None\n",
    "        self.X = None\n",
    "\n",
    "    def match(self):\n",
    "        \"\"\"\n",
    "        傾向スコアマッチングを行い、マッチしたデータを返す。\n",
    "\n",
    "        Returns\n",
    "        -------\n",
    "        matched_X : pandas.DataFrame\n",
    "            マッチした共変量の値を保持するデータフレーム。\n",
    "        matched_y : pandas.Series\n",
    "            マッチした介入変数の値を保持するシリーズ。\n",
    "\n",
    "        Raises\n",
    "        ------\n",
    "        ValueError\n",
    "            介入変数が0,1以外の値をとる場合\n",
    "        \"\"\"\n",
    "        self.y = self.bias_data[self.treatment].copy()\n",
    "        self.X = self.bias_data[self.control].copy()\n",
    "\n",
    "        object_columns = self.X.select_dtypes(include=\"object\").columns.tolist()\n",
    "        if len(object_columns)>0:\n",
    "            self.X = pd.get_dummies(self.X, columns=object_columns, drop_first=True)\n",
    "\n",
    "        ps_model = LogisticRegression(solver=\"lbfgs\", random_state=self.random_state)\n",
    "        ps_model.fit(self.X, self.y)\n",
    "        ps_score = ps_model.predict_proba(self.X)[:, 1]\n",
    "        all_df = pd.DataFrame({f\"{self.treatment}\": self.y, \"ps_score\": ps_score})\n",
    "\n",
    "        treatments = all_df[self.treatment].unique()\n",
    "\n",
    "        if len(treatments) != 2:\n",
    "            print(\"Matching can only be performed for two groups. Please represent the two groups as [0, 1].\")\n",
    "            raise ValueError\n",
    "\n",
    "        group1_df = all_df[all_df[self.treatment]==1].copy()\n",
    "        group1_indices = group1_df.index\n",
    "        group1_df = group1_df.reset_index(drop=True)\n",
    "\n",
    "        group0_df = all_df[all_df[self.treatment]==0].copy()\n",
    "        group0_indices = group0_df.index\n",
    "        group0_df = group0_df.reset_index(drop=True)\n",
    "\n",
    "        # The recommended standard deviation of the logit-transformed propensity score estimate is multiplied by 0.2.\n",
    "        threshold = all_df[\"ps_score\"].std() * 0.2\n",
    "\n",
    "        matched_group1_dfs = []\n",
    "        matched_group0_dfs = []\n",
    "        _group1_df = group1_df.copy()\n",
    "        _group0_df = group0_df.copy()\n",
    "\n",
    "        while True:\n",
    "            nearest_neighbor_model = NearestNeighbors(n_neighbors=1)\n",
    "            nearest_neighbor_model.fit(_group1_df[\"ps_score\"].values.reshape(-1, 1))\n",
    "            distances, indices = nearest_neighbor_model.kneighbors(_group0_df[\"ps_score\"].values.reshape(-1, 1))\n",
    "\n",
    "            distance_df = pd.DataFrame({\"distance\": distances.reshape(-1), \"indices\": indices.reshape(-1)})\n",
    "            distance_df.index = _group0_df.index\n",
    "            distance_df = distance_df.drop_duplicates(subset=\"indices\")\n",
    "\n",
    "            distance_df = distance_df[distance_df[\"distance\"] < threshold]\n",
    "\n",
    "            if len(distance_df) == 0:\n",
    "                break\n",
    "\n",
    "            group1_matched_indices = _group1_df.iloc[distance_df['indices']].index.tolist()\n",
    "            group0_matched_indices = distance_df.index\n",
    "            matched_group1_dfs.append(_group1_df.loc[group1_matched_indices])\n",
    "            matched_group0_dfs.append(_group0_df.loc[group0_matched_indices])\n",
    "            _group1_df = _group1_df.drop(group1_matched_indices)\n",
    "            _group0_df = _group0_df.drop(group0_matched_indices)\n",
    "\n",
    "        # マッチしたレコードを返す\n",
    "        group1_df.index = group1_indices\n",
    "        group0_df.index = group0_indices\n",
    "        matched_df = pd.concat([\n",
    "            group1_df.iloc[pd.concat(matched_group1_dfs).index],\n",
    "            group0_df.iloc[pd.concat(matched_group0_dfs).index]\n",
    "        ]).sort_index()\n",
    "        matched_indices = matched_df.index\n",
    "\n",
    "        return self.X.loc[matched_indices], self.y.loc[matched_indices]\n",
    "\n",
    "    def get_ipw(self):\n",
    "        \"\"\"\n",
    "        IPWを計算する\n",
    "\n",
    "        Returns\n",
    "        -------\n",
    "        weights: pandas.Series\n",
    "            IPWの値を保持するシリーズ\n",
    "        \"\"\"\n",
    "        self.y = self.bias_data[self.treatment].copy()\n",
    "        self.X = self.bias_data[self.control].copy()\n",
    "\n",
    "        object_columns = self.X.select_dtypes(include=\"object\").columns.tolist()\n",
    "        if len(object_columns)>0:\n",
    "            self.X = pd.get_dummies(self.X, columns=object_columns, drop_first=True)\n",
    "\n",
    "        ps_model = LogisticRegression(solver=\"lbfgs\", random_state=self.random_state)\n",
    "        ps_model.fit(self.X, self.y)\n",
    "        ps_score = ps_model.predict_proba(self.X)[:, 1]\n",
    "        all_df = pd.DataFrame({f\"{self.treatment}\": self.y, \"ps_score\": ps_score})\n",
    "\n",
    "        treatments = all_df[self.treatment].unique()\n",
    "\n",
    "        if len(treatments) != 2:\n",
    "            print(\"Matching can only be performed for two groups. Please represent the two groups as [0, 1].\")\n",
    "            raise ValueError\n",
    "\n",
    "        group1_df = all_df[all_df[self.treatment]==1].copy()\n",
    "        group0_df = all_df[all_df[self.treatment]==0].copy()\n",
    "\n",
    "        group1_df['weight'] = 1 / group1_df.ps_score\n",
    "        group0_df['weight'] = 1 / (1 - group0_df.ps_score)\n",
    "        weights = pd.concat([group1_df, group0_df]).sort_index()['weight'].values\n",
    "\n",
    "        return weights"
   ],
   "metadata": {
    "collapsed": false
   }
  },
  {
   "cell_type": "code",
   "execution_count": 52,
   "outputs": [
    {
     "data": {
      "text/plain": "           coef  std err      t  P>|t|    [0.025    0.975]\ntreat  462.5962  791.565  0.584  0.559 -1094.554  2019.746",
      "text/html": "<div>\n<style scoped>\n    .dataframe tbody tr th:only-of-type {\n        vertical-align: middle;\n    }\n\n    .dataframe tbody tr th {\n        vertical-align: top;\n    }\n\n    .dataframe thead th {\n        text-align: right;\n    }\n</style>\n<table border=\"1\" class=\"dataframe\">\n  <thead>\n    <tr style=\"text-align: right;\">\n      <th></th>\n      <th>coef</th>\n      <th>std err</th>\n      <th>t</th>\n      <th>P&gt;|t|</th>\n      <th>[0.025</th>\n      <th>0.975]</th>\n    </tr>\n  </thead>\n  <tbody>\n    <tr>\n      <th>treat</th>\n      <td>462.5962</td>\n      <td>791.565</td>\n      <td>0.584</td>\n      <td>0.559</td>\n      <td>-1094.554</td>\n      <td>2019.746</td>\n    </tr>\n  </tbody>\n</table>\n</div>"
     },
     "execution_count": 52,
     "metadata": {},
     "output_type": "execute_result"
    }
   ],
   "source": [
    "\n",
    "ps_match_model = PropensityScoreMatching(cps1_nsw_data, treatment=\"treat\", control=['age', 'education', 'black', 'hispanic', 'nodegree', 'married', 're74', 're75'], random_state=0)\n",
    "matchX, matchy = ps_match_model.match()\n",
    "\n",
    "# マッチング後のデータ作成\n",
    "matched_data = cps1_nsw_data.loc[matchX.index]\n",
    "# マッチング後のデータで効果の推定\n",
    "y = matched_data.re78\n",
    "X = matched_data[['treat']]\n",
    "X = sm.add_constant(X)\n",
    "results = sm.OLS(y, X).fit()\n",
    "coef = results.summary().tables[1]\n",
    "coef = pd.read_html(coef.as_html(), header=0, index_col=0)[0]\n",
    "pd.DataFrame(coef.loc['treat']).T"
   ],
   "metadata": {
    "collapsed": false
   }
  },
  {
   "cell_type": "markdown",
   "source": [
    "結構下ぶれが起きてしまっている。共変量の選択を色々変えると値が大きく変わるので、共変量の選択が重要になってくる？"
   ],
   "metadata": {
    "collapsed": false
   }
  },
  {
   "cell_type": "code",
   "execution_count": 40,
   "outputs": [
    {
     "name": "stdout",
     "output_type": "stream",
     "text": [
      "247\n"
     ]
    }
   ],
   "source": [
    "import itertools\n",
    "from tqdm import tqdm\n",
    "\n",
    "lst = ['age', 'education', 'black', 'hispanic', 'nodegree', 'married', 're74', 're75']\n",
    "combinations = [list(subset) for i in range(2, len(lst) + 1) for subset in itertools.combinations(lst, i)]\n",
    "\n",
    "print(len(combinations))"
   ],
   "metadata": {
    "collapsed": false
   }
  },
  {
   "cell_type": "code",
   "execution_count": 43,
   "outputs": [
    {
     "name": "stderr",
     "output_type": "stream",
     "text": [
      " 30%|██▉       | 74/247 [00:18<00:37,  4.61it/s]"
     ]
    },
    {
     "name": "stdout",
     "output_type": "stream",
     "text": [
      "['black', 'married', 're75']\n",
      "1297.9212\n"
     ]
    },
    {
     "name": "stderr",
     "output_type": "stream",
     "text": [
      " 45%|████▍     | 110/247 [00:24<00:21,  6.34it/s]"
     ]
    },
    {
     "name": "stdout",
     "output_type": "stream",
     "text": [
      "['age', 'black', 're74', 're75']\n",
      "1242.1474\n"
     ]
    },
    {
     "name": "stderr",
     "output_type": "stream",
     "text": [
      " 52%|█████▏    | 129/247 [00:27<00:26,  4.53it/s]"
     ]
    },
    {
     "name": "stdout",
     "output_type": "stream",
     "text": [
      "['education', 'black', 're74', 're75']\n",
      "1112.3849\n"
     ]
    },
    {
     "name": "stderr",
     "output_type": "stream",
     "text": [
      " 59%|█████▊    | 145/247 [00:31<00:21,  4.72it/s]"
     ]
    },
    {
     "name": "stdout",
     "output_type": "stream",
     "text": [
      "['black', 'hispanic', 'married', 're75']\n",
      "1111.2411\n"
     ]
    },
    {
     "name": "stderr",
     "output_type": "stream",
     "text": [
      " 64%|██████▍   | 159/247 [00:33<00:11,  7.86it/s]"
     ]
    },
    {
     "name": "stdout",
     "output_type": "stream",
     "text": [
      "['age', 'education', 'black', 'hispanic', 're75']\n",
      "1302.8826\n"
     ]
    },
    {
     "name": "stderr",
     "output_type": "stream",
     "text": [
      " 74%|███████▍  | 183/247 [00:36<00:09,  6.41it/s]"
     ]
    },
    {
     "name": "stdout",
     "output_type": "stream",
     "text": [
      "['age', 'black', 'nodegree', 'married', 're75']\n",
      "1371.6138\n"
     ]
    },
    {
     "name": "stderr",
     "output_type": "stream",
     "text": [
      " 75%|███████▍  | 185/247 [00:36<00:09,  6.78it/s]"
     ]
    },
    {
     "name": "stdout",
     "output_type": "stream",
     "text": [
      "['age', 'black', 'married', 're74', 're75']\n",
      "1514.98\n"
     ]
    },
    {
     "name": "stderr",
     "output_type": "stream",
     "text": [
      " 77%|███████▋  | 189/247 [00:37<00:08,  6.77it/s]"
     ]
    },
    {
     "name": "stdout",
     "output_type": "stream",
     "text": [
      "['age', 'nodegree', 'married', 're74', 're75']\n",
      "1322.8409\n"
     ]
    },
    {
     "name": "stderr",
     "output_type": "stream",
     "text": [
      " 81%|████████  | 199/247 [00:39<00:09,  4.96it/s]"
     ]
    },
    {
     "name": "stdout",
     "output_type": "stream",
     "text": [
      "['education', 'black', 'nodegree', 're74', 're75']\n",
      "1752.0518\n"
     ]
    },
    {
     "name": "stderr",
     "output_type": "stream",
     "text": [
      " 87%|████████▋ | 216/247 [00:43<00:04,  6.30it/s]"
     ]
    },
    {
     "name": "stdout",
     "output_type": "stream",
     "text": [
      "['age', 'education', 'black', 'hispanic', 'married', 're75']\n",
      "1239.9124\n"
     ]
    },
    {
     "name": "stderr",
     "output_type": "stream",
     "text": [
      " 89%|████████▊ | 219/247 [00:43<00:04,  6.17it/s]"
     ]
    },
    {
     "name": "stdout",
     "output_type": "stream",
     "text": [
      "['age', 'education', 'black', 'nodegree', 'married', 're75']\n",
      "1192.1645\n",
      "['age', 'education', 'black', 'nodegree', 're74', 're75']\n",
      "1235.5258\n"
     ]
    },
    {
     "name": "stderr",
     "output_type": "stream",
     "text": [
      " 93%|█████████▎| 230/247 [00:45<00:02,  5.95it/s]"
     ]
    },
    {
     "name": "stdout",
     "output_type": "stream",
     "text": [
      "['age', 'black', 'hispanic', 'married', 're74', 're75']\n",
      "1709.3024\n"
     ]
    },
    {
     "name": "stderr",
     "output_type": "stream",
     "text": [
      " 95%|█████████▌| 235/247 [00:46<00:02,  5.04it/s]"
     ]
    },
    {
     "name": "stdout",
     "output_type": "stream",
     "text": [
      "['education', 'black', 'hispanic', 'nodegree', 're74', 're75']\n",
      "1357.9106\n"
     ]
    },
    {
     "name": "stderr",
     "output_type": "stream",
     "text": [
      " 96%|█████████▌| 236/247 [00:46<00:02,  4.69it/s]"
     ]
    },
    {
     "name": "stdout",
     "output_type": "stream",
     "text": [
      "['education', 'black', 'nodegree', 'married', 're74', 're75']\n",
      "1217.4321\n"
     ]
    },
    {
     "name": "stderr",
     "output_type": "stream",
     "text": [
      " 98%|█████████▊| 243/247 [00:47<00:00,  6.50it/s]"
     ]
    },
    {
     "name": "stdout",
     "output_type": "stream",
     "text": [
      "['age', 'education', 'black', 'hispanic', 'married', 're74', 're75']\n",
      "1194.591\n"
     ]
    },
    {
     "name": "stderr",
     "output_type": "stream",
     "text": [
      "100%|██████████| 247/247 [00:48<00:00,  5.11it/s]"
     ]
    },
    {
     "name": "stdout",
     "output_type": "stream",
     "text": [
      "['education', 'black', 'hispanic', 'nodegree', 'married', 're74', 're75']\n",
      "1208.0128\n"
     ]
    },
    {
     "name": "stderr",
     "output_type": "stream",
     "text": [
      "\n"
     ]
    }
   ],
   "source": [
    "coef_list = []\n",
    "\n",
    "for combination in tqdm(combinations):\n",
    "    ps_match_model = PropensityScoreMatching(cps1_nsw_data, treatment=\"treat\", control=combination, random_state=0)\n",
    "    matchX, matchy = ps_match_model.match()\n",
    "\n",
    "    # マッチング後のデータ作成\n",
    "    matched_data = cps1_nsw_data.loc[matchX.index]\n",
    "    # マッチング後のデータで効果の推定\n",
    "    y = matched_data.re78\n",
    "    X = matched_data[['treat']]\n",
    "    X = sm.add_constant(X)\n",
    "    results = sm.OLS(y, X).fit()\n",
    "    coef = results.summary().tables[1]\n",
    "    coef = pd.read_html(coef.as_html(), header=0, index_col=0)[0]\n",
    "    coef_list.append(pd.DataFrame(coef.loc['treat']).T[\"coef\"][0])\n",
    "\n",
    "    # もしtreatが1100~1800の範囲にあれば、共変量と値を出力する\n",
    "    if 1100 < pd.DataFrame(coef.loc['treat']).T[\"coef\"][0] < 1800:\n",
    "        print(combination)\n",
    "        print(pd.DataFrame(coef.loc['treat']).T[\"coef\"][0])\n"
   ],
   "metadata": {
    "collapsed": false
   }
  },
  {
   "cell_type": "code",
   "execution_count": 45,
   "outputs": [
    {
     "data": {
      "text/plain": "<Figure size 720x432 with 1 Axes>",
      "image/png": "[encoded data removed]"
     },
     "metadata": {},
     "output_type": "display_data"
    }
   ],
   "source": [
    "# 傾向スコアマッチングの推定結果を可視化する\n",
    "plt.figure(figsize=(10, 6))\n",
    "plt.hist(coef_list, bins=100)\n",
    "plt.title(\"Distribution of the estimated effect\")\n",
    "plt.xlabel(\"Estimated effect\")\n",
    "plt.ylabel(\"Frequency\")\n",
    "plt.show()"
   ],
   "metadata": {
    "collapsed": false
   }
  },
  {
   "cell_type": "markdown",
   "source": [
    "推定値がマイナスな値があるが、これは実装がおかしいのか？"
   ],
   "metadata": {
    "collapsed": false
   }
  },
  {
   "cell_type": "markdown",
   "source": [
    "## 共変量のバランスを確認"
   ],
   "metadata": {
    "collapsed": false
   }
  },
  {
   "cell_type": "code",
   "execution_count": 46,
   "outputs": [
    {
     "data": {
      "text/plain": "           coef  std err      t  P>|t|    [0.025    0.975]\ntreat  462.5962  791.565  0.584  0.559 -1094.554  2019.746",
      "text/html": "<div>\n<style scoped>\n    .dataframe tbody tr th:only-of-type {\n        vertical-align: middle;\n    }\n\n    .dataframe tbody tr th {\n        vertical-align: top;\n    }\n\n    .dataframe thead th {\n        text-align: right;\n    }\n</style>\n<table border=\"1\" class=\"dataframe\">\n  <thead>\n    <tr style=\"text-align: right;\">\n      <th></th>\n      <th>coef</th>\n      <th>std err</th>\n      <th>t</th>\n      <th>P&gt;|t|</th>\n      <th>[0.025</th>\n      <th>0.975]</th>\n    </tr>\n  </thead>\n  <tbody>\n    <tr>\n      <th>treat</th>\n      <td>462.5962</td>\n      <td>791.565</td>\n      <td>0.584</td>\n      <td>0.559</td>\n      <td>-1094.554</td>\n      <td>2019.746</td>\n    </tr>\n  </tbody>\n</table>\n</div>"
     },
     "execution_count": 46,
     "metadata": {},
     "output_type": "execute_result"
    }
   ],
   "source": [
    "ps_match_model = PropensityScoreMatching(cps1_nsw_data, treatment=\"treat\", control=['age', 'education', 'black', 'hispanic', 'nodegree', 'married', 're74', 're75'], random_state=0)\n",
    "matchX, matchy = ps_match_model.match()\n",
    "\n",
    "# マッチング後のデータ作成\n",
    "matched_data = cps1_nsw_data.loc[matchX.index]\n",
    "# マッチング後のデータで効果の推定\n",
    "y = matched_data.re78\n",
    "X = matched_data[['treat']]\n",
    "X = sm.add_constant(X)\n",
    "results = sm.OLS(y, X).fit()\n",
    "coef = results.summary().tables[1]\n",
    "coef = pd.read_html(coef.as_html(), header=0, index_col=0)[0]\n",
    "pd.DataFrame(coef.loc['treat']).T"
   ],
   "metadata": {
    "collapsed": false
   }
  },
  {
   "cell_type": "code",
   "execution_count": 47,
   "outputs": [],
   "source": [
    "def calc_absolute_mean_difference(df):\n",
    "    # (treatment群の平均 - control群の平均) / 全体の標準誤差\n",
    "    return ((df[df.treat==1].drop('treat', axis=1).mean() - df[df.treat==0].drop('treat', axis=1).mean()) \\\n",
    "            / df.drop('treat', axis=1).std()).abs()\n",
    "\n",
    "## 調整前のAbsolute Mean Difference\n",
    "unadjusted_df = cps1_nsw_data[['treat', 'age', 'education', 'black', 'hispanic', 'nodegree', 'married', 're74', 're75']]\n",
    "unadjusted_amd = calc_absolute_mean_difference(unadjusted_df)\n",
    "\n",
    "# 傾向スコアマッチング後のAbusolute Mean Difference\n",
    "after_matching_df = cps1_nsw_data.loc[matchX.index][['treat', 'age', 'education', 'black', 'hispanic', 'nodegree', 'married', 're74', 're75']]\n",
    "after_matching_amd = calc_absolute_mean_difference(after_matching_df)"
   ],
   "metadata": {
    "collapsed": false
   }
  },
  {
   "cell_type": "code",
   "execution_count": 49,
   "outputs": [
    {
     "data": {
      "text/plain": "<Figure size 432x288 with 1 Axes>",
      "image/png": "[encoded data removed]"
     },
     "metadata": {},
     "output_type": "display_data"
    }
   ],
   "source": [
    "balance_df = pd.concat([\n",
    "    pd.DataFrame({'Absolute Mean Difference': unadjusted_amd, 'Sample': 'Unadjusted'}),\n",
    "    pd.DataFrame({'Absolute Mean Difference': after_matching_amd, 'Sample': 'Adjusted'})\n",
    "])\n",
    "\n",
    "\n",
    "fig = sns.scatterplot(data=balance_df, x='Absolute Mean Difference', y=balance_df.index, hue=\"Sample\")\n",
    "fig.set_title('3.9 マッチングの共変量のバランス')\n",
    "plt.show()"
   ],
   "metadata": {
    "collapsed": false
   }
  },
  {
   "cell_type": "markdown",
   "source": [
    "# Inverse Probability Weighting(IPW)"
   ],
   "metadata": {
    "collapsed": false
   }
  },
  {
   "cell_type": "code",
   "execution_count": 53,
   "outputs": [],
   "source": [
    "ps_score_model = PropensityScoreMatching(cps1_nsw_data, treatment=\"treat\", control=['age', 'education', 'black', 'hispanic', 'nodegree', 'married', 're74', 're75'], random_state=0)\n",
    "\n",
    "weights = ps_score_model.get_ipw()"
   ],
   "metadata": {
    "collapsed": false
   }
  },
  {
   "cell_type": "code",
   "execution_count": 32,
   "outputs": [],
   "source": [
    "X = cps1_nsw_data[['age', 'education', 'black', 'hispanic', 'nodegree', 'married', 're74', 're75']]\n",
    "y = cps1_nsw_data['treat']\n",
    "weights = get_ipw(X, y)"
   ],
   "metadata": {
    "collapsed": false
   }
  },
  {
   "cell_type": "code",
   "execution_count": 54,
   "outputs": [
    {
     "data": {
      "text/plain": "             coef  std err        t  P>|t|     [0.025     0.975]\nconst  14710.0000    87.60  167.886    0.0  14500.000  14900.000\ntreat  -7343.8457   139.36  -52.697    0.0  -7617.007  -7070.684",
      "text/html": "<div>\n<style scoped>\n    .dataframe tbody tr th:only-of-type {\n        vertical-align: middle;\n    }\n\n    .dataframe tbody tr th {\n        vertical-align: top;\n    }\n\n    .dataframe thead th {\n        text-align: right;\n    }\n</style>\n<table border=\"1\" class=\"dataframe\">\n  <thead>\n    <tr style=\"text-align: right;\">\n      <th></th>\n      <th>coef</th>\n      <th>std err</th>\n      <th>t</th>\n      <th>P&gt;|t|</th>\n      <th>[0.025</th>\n      <th>0.975]</th>\n    </tr>\n  </thead>\n  <tbody>\n    <tr>\n      <th>const</th>\n      <td>14710.0000</td>\n      <td>87.60</td>\n      <td>167.886</td>\n      <td>0.0</td>\n      <td>14500.000</td>\n      <td>14900.000</td>\n    </tr>\n    <tr>\n      <th>treat</th>\n      <td>-7343.8457</td>\n      <td>139.36</td>\n      <td>-52.697</td>\n      <td>0.0</td>\n      <td>-7617.007</td>\n      <td>-7070.684</td>\n    </tr>\n  </tbody>\n</table>\n</div>"
     },
     "execution_count": 54,
     "metadata": {},
     "output_type": "execute_result"
    }
   ],
   "source": [
    "## 重み付きデータでの効果の推定\n",
    "y = cps1_nsw_data.re78\n",
    "X = cps1_nsw_data.treat\n",
    "X = sm.add_constant(X)\n",
    "results = sm.WLS(y, X, weights=weights).fit()\n",
    "coef = results.summary().tables[1]\n",
    "coef = pd.read_html(coef.as_html(), header=0, index_col=0)[0]\n",
    "coef"
   ],
   "metadata": {
    "collapsed": false
   }
  },
  {
   "cell_type": "markdown",
   "source": [
    "分析結果が-7343となり、統計的にも有意となっている。仮にNSWの実験結果を知らず、IPWの分析結果しか見ていなければ、職業訓練には大きな負の効果があると報告されてしまう。\n",
    "\n",
    "介入グループと非介入グループの傾向の違いが大きい場合、IPWの分析結果は信頼しにくいことが知られている。\n",
    "<I>これは、傾向スコアの逆数をサンプルの重みに利用している特性上、傾向スコアが非常に小さい値を取ると、そのサンプルの重みが大きくなってしまうことが原因である。</I>\n",
    "\n",
    "例：傾向のスコアの値が0.01%の場合、IPWではそのサンプルは10000倍に水増しされてしまう。（傾向スコアの推定に小さな誤差があるだけでも、推定効果に大きな影響を受けることになる）このような状況では、傾向スコアの推定に非常に小さな誤差があるだけでも効果の推定結果に大きな影響を受けることになる。\n",
    "\n",
    "今回、傾向スコアが大きな負の値になってしまった。今回のデータの場合、CPSにしか含まれないようなサンプルの重みが大きな値を取ることになる。そして、そのようなサンプルは、職業訓練を必要としなもともとの収入が暗転しているサンプルであるため、期待値の推定結果が非常に大きくなり、結果として、効果の推定値が大きく負の値になってしまう\n",
    "。\n",
    "\n",
    "介入もしくは非介入のグループにしか存在しないようなサンプルがある場合、傾向スコアは0か1に非常に近い値を取ることになり、傾向スコアで分析できる対象を大きく制限することになる。"
   ],
   "metadata": {
    "collapsed": false
   }
  },
  {
   "cell_type": "markdown",
   "source": [
    "## check balance"
   ],
   "metadata": {
    "collapsed": false
   }
  },
  {
   "cell_type": "code",
   "execution_count": 55,
   "outputs": [],
   "source": [
    "# IPWで重み付け後のAbsolute Mean Difference\n",
    "# 重みのぶんレコードを増やして計算する（もっといいやり方を知りたい）\n",
    "after_weighted_df = cps1_nsw_data.loc[matchX.index][['treat', 'age', 'education', 'black', 'hispanic', 'nodegree', 'married', 're74', 're75']]\n",
    "weights_int = (weights * 100).astype(int)\n",
    "weighted_df = []\n",
    "for i, value in enumerate(after_weighted_df.values):\n",
    "    weighted_df.append(np.tile(value, (weights_int[i], 1)))\n",
    "weighted_df = np.concatenate(weighted_df).reshape(-1, 9)\n",
    "weighted_df = pd.DataFrame(weighted_df)\n",
    "weighted_df.columns = after_weighted_df.columns\n",
    "after_weighted_amd = calc_absolute_mean_difference(weighted_df)"
   ],
   "metadata": {
    "collapsed": false
   }
  },
  {
   "cell_type": "code",
   "execution_count": 56,
   "outputs": [
    {
     "data": {
      "text/plain": "<Figure size 432x288 with 1 Axes>",
      "image/png": "[encoded data removed]"
     },
     "metadata": {},
     "output_type": "display_data"
    }
   ],
   "source": [
    "balance_df = pd.concat([\n",
    "    pd.DataFrame({'Absolute Mean Difference': unadjusted_amd, 'Sample': 'Unadjusted'}),\n",
    "    pd.DataFrame({'Absolute Mean Difference': after_weighted_amd, 'Sample': 'Adjusted'})\n",
    "])\n",
    "fig = sns.scatterplot(data=balance_df, x='Absolute Mean Difference', y=balance_df.index, hue=\"Sample\")\n",
    "fig.set_title('3.10 マッチングの共変量のバランス')\n",
    "plt.show()"
   ],
   "metadata": {
    "collapsed": false
   }
  },
  {
   "cell_type": "code",
   "execution_count": null,
   "outputs": [],
   "source": [],
   "metadata": {
    "collapsed": false
   }
  }
 ],
 "metadata": {
  "kernelspec": {
   "display_name": "Python 3",
   "language": "python",
   "name": "python3"
  },
  "language_info": {
   "codemirror_mode": {
    "name": "ipython",
    "version": 2
   },
   "file_extension": ".py",
   "mimetype": "text/x-python",
   "name": "python",
   "nbconvert_exporter": "python",
   "pygments_lexer": "ipython2",
   "version": "2.7.6"
  }
 },
 "nbformat": 4,
 "nbformat_minor": 0
}
